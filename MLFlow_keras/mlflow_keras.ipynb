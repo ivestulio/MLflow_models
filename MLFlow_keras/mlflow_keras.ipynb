{
 "cells": [
  {
   "cell_type": "code",
   "execution_count": 1,
   "metadata": {},
   "outputs": [],
   "source": [
    "import pandas as pd\n",
    "\n",
    "from keras.models import Sequential\n",
    "from keras.layers import Dense, Dropout\n",
    "from keras.utils import to_categorical\n",
    "#from keras.utils import np_utils\n",
    "import numpy as np\n",
    "from sklearn.metrics import confusion_matrix\n",
    "from keras.datasets import mnist\n",
    "\n",
    "import mlflow\n",
    "import mlflow.tensorflow\n",
    "\n",
    "import matplotlib.pyplot as plt\n"
   ]
  },
  {
   "cell_type": "code",
   "execution_count": 2,
   "metadata": {},
   "outputs": [
    {
     "data": {
      "text/plain": [
       "Text(0.5, 1.0, '9')"
      ]
     },
     "execution_count": 2,
     "metadata": {},
     "output_type": "execute_result"
    },
    {
     "data": {
      "image/png": "[encoded data removed]",
      "text/plain": [
       "<Figure size 640x480 with 1 Axes>"
      ]
     },
     "metadata": {},
     "output_type": "display_data"
    }
   ],
   "source": [
    "(X_train, y_train ), (X_test, y_test) = mnist.load_data()\n",
    "plt.imshow(X_train[22], cmap='gray')\n",
    "plt.title(y_train[22])\n"
   ]
  },
  {
   "cell_type": "code",
   "execution_count": 3,
   "metadata": {},
   "outputs": [],
   "source": [
    "X_train = X_train.reshape((len(X_train), np.prod(X_train.shape[1:])))\n",
    "X_test = X_test.reshape((len(X_test), np.prod(X_test.shape[1:])))"
   ]
  },
  {
   "cell_type": "code",
   "execution_count": 4,
   "metadata": {},
   "outputs": [
    {
     "data": {
      "text/plain": [
       "array([  0,   0,   0,   0,   0,   0,   0,   0,   0,   0,   0,   0,   0,\n",
       "         0,   0,   0,   0,   0,   0,   0,   0,   0,   0,   0,   0,   0,\n",
       "         0,   0,   0,   0,   0,   0,   0,   0,   0,   0,   0,   0,   0,\n",
       "         0,   0,   0,   0,   0,   0,   0,   0,   0,   0,   0,   0,   0,\n",
       "         0,   0,   0,   0,   0,   0,   0,   0,   0,   0,   0,   0,   0,\n",
       "         0,   0,   0,   0,   0,   0,   0,   0,   0,   0,   0,   0,   0,\n",
       "         0,   0,   0,   0,   0,   0,   0,   0,   0,   0,   0,   0,   0,\n",
       "         0,   0,   0,   0,   0,   0,   0,   0,   0,   0,   0,   0,   0,\n",
       "         0,   0,   0,   0,   0,   0,   0,   0,   0,   0,   0,   0,   0,\n",
       "         0,   0,   0,   0,   0,   0,   0,   0,   0,   0,   0,   0,   0,\n",
       "         0,   0,   0,   0,   0,   0,   0,   0,   0,   0,   0,   0,   0,\n",
       "         0,   0,   0,   0,   0,   0,   0,   0,   0,   0,   0,   0,   0,\n",
       "         0,   0,   0,   0,   0,   0,   0,   0,   0,   0,   0,   0,   0,\n",
       "         0,   0,   0,   0,   0,   0,   0,   0,   0,   0,   0,   0,   0,\n",
       "         0,   0,   0,   0,   0,   0,   0,   0,   0,   0,   0,   0,   0,\n",
       "         0,   0,   0,   0,   0,   0,   0,  84, 185, 159, 151,  60,  36,\n",
       "         0,   0,   0,   0,   0,   0,   0,   0,   0,   0,   0,   0,   0,\n",
       "         0,   0,   0,   0,   0,   0,   0,   0,   0, 222, 254, 254, 254,\n",
       "       254, 241, 198, 198, 198, 198, 198, 198, 198, 198, 170,  52,   0,\n",
       "         0,   0,   0,   0,   0,   0,   0,   0,   0,   0,   0,  67, 114,\n",
       "        72, 114, 163, 227, 254, 225, 254, 254, 254, 250, 229, 254, 254,\n",
       "       140,   0,   0,   0,   0,   0,   0,   0,   0,   0,   0,   0,   0,\n",
       "         0,   0,   0,   0,   0,  17,  66,  14,  67,  67,  67,  59,  21,\n",
       "       236, 254, 106,   0,   0,   0,   0,   0,   0,   0,   0,   0,   0,\n",
       "         0,   0,   0,   0,   0,   0,   0,   0,   0,   0,   0,   0,   0,\n",
       "         0,  83, 253, 209,  18,   0,   0,   0,   0,   0,   0,   0,   0,\n",
       "         0,   0,   0,   0,   0,   0,   0,   0,   0,   0,   0,   0,   0,\n",
       "         0,   0,  22, 233, 255,  83,   0,   0,   0,   0,   0,   0,   0,\n",
       "         0,   0,   0,   0,   0,   0,   0,   0,   0,   0,   0,   0,   0,\n",
       "         0,   0,   0,   0, 129, 254, 238,  44,   0,   0,   0,   0,   0,\n",
       "         0,   0,   0,   0,   0,   0,   0,   0,   0,   0,   0,   0,   0,\n",
       "         0,   0,   0,   0,   0,  59, 249, 254,  62,   0,   0,   0,   0,\n",
       "         0,   0,   0,   0,   0,   0,   0,   0,   0,   0,   0,   0,   0,\n",
       "         0,   0,   0,   0,   0,   0,   0, 133, 254, 187,   5,   0,   0,\n",
       "         0,   0,   0,   0,   0,   0,   0,   0,   0,   0,   0,   0,   0,\n",
       "         0,   0,   0,   0,   0,   0,   0,   0,   9, 205, 248,  58,   0,\n",
       "         0,   0,   0,   0,   0,   0,   0,   0,   0,   0,   0,   0,   0,\n",
       "         0,   0,   0,   0,   0,   0,   0,   0,   0,   0, 126, 254, 182,\n",
       "         0,   0,   0,   0,   0,   0,   0,   0,   0,   0,   0,   0,   0,\n",
       "         0,   0,   0,   0,   0,   0,   0,   0,   0,   0,   0,  75, 251,\n",
       "       240,  57,   0,   0,   0,   0,   0,   0,   0,   0,   0,   0,   0,\n",
       "         0,   0,   0,   0,   0,   0,   0,   0,   0,   0,   0,   0,  19,\n",
       "       221, 254, 166,   0,   0,   0,   0,   0,   0,   0,   0,   0,   0,\n",
       "         0,   0,   0,   0,   0,   0,   0,   0,   0,   0,   0,   0,   0,\n",
       "         3, 203, 254, 219,  35,   0,   0,   0,   0,   0,   0,   0,   0,\n",
       "         0,   0,   0,   0,   0,   0,   0,   0,   0,   0,   0,   0,   0,\n",
       "         0,   0,  38, 254, 254,  77,   0,   0,   0,   0,   0,   0,   0,\n",
       "         0,   0,   0,   0,   0,   0,   0,   0,   0,   0,   0,   0,   0,\n",
       "         0,   0,   0,  31, 224, 254, 115,   1,   0,   0,   0,   0,   0,\n",
       "         0,   0,   0,   0,   0,   0,   0,   0,   0,   0,   0,   0,   0,\n",
       "         0,   0,   0,   0,   0, 133, 254, 254,  52,   0,   0,   0,   0,\n",
       "         0,   0,   0,   0,   0,   0,   0,   0,   0,   0,   0,   0,   0,\n",
       "         0,   0,   0,   0,   0,   0,  61, 242, 254, 254,  52,   0,   0,\n",
       "         0,   0,   0,   0,   0,   0,   0,   0,   0,   0,   0,   0,   0,\n",
       "         0,   0,   0,   0,   0,   0,   0,   0, 121, 254, 254, 219,  40,\n",
       "         0,   0,   0,   0,   0,   0,   0,   0,   0,   0,   0,   0,   0,\n",
       "         0,   0,   0,   0,   0,   0,   0,   0,   0,   0, 121, 254, 207,\n",
       "        18,   0,   0,   0,   0,   0,   0,   0,   0,   0,   0,   0,   0,\n",
       "         0,   0,   0,   0,   0,   0,   0,   0,   0,   0,   0,   0,   0,\n",
       "         0,   0,   0,   0,   0,   0,   0,   0,   0,   0,   0,   0,   0,\n",
       "         0,   0,   0,   0], dtype=uint8)"
      ]
     },
     "execution_count": 4,
     "metadata": {},
     "output_type": "execute_result"
    }
   ],
   "source": [
    "X_test[0]"
   ]
  },
  {
   "cell_type": "code",
   "execution_count": 5,
   "metadata": {},
   "outputs": [],
   "source": [
    "X_train = X_train.astype('float32')\n",
    "X_test = X_test.astype('float32')\n",
    "X_train /= 255 #normalization\n",
    "X_test /= 255\n"
   ]
  },
  {
   "cell_type": "code",
   "execution_count": 6,
   "metadata": {},
   "outputs": [],
   "source": [
    "y_train = to_categorical(y_train, 10)\n",
    "y_test = to_categorical(y_test, 10)"
   ]
  },
  {
   "cell_type": "code",
   "execution_count": null,
   "metadata": {},
   "outputs": [],
   "source": [
    "y_test[0]"
   ]
  },
  {
   "cell_type": "code",
   "execution_count": 7,
   "metadata": {},
   "outputs": [],
   "source": [
    "def treina_dl(n_camadas_ocultas, n_neuronios, activation, drop_out, epochs):\n",
    "  mlflow.set_tracking_uri(\"http://localhost:5000\")\n",
    "  mlflow.set_experiment('dl_experimento')\n",
    "\n",
    "  with mlflow.start_run():\n",
    "    \n",
    "    \n",
    "    mlflow.tensorflow.autolog()\n",
    "\n",
    "  # registro de tags\n",
    "    mlflow.set_tag('n_camadas_ocultas', n_camadas_ocultas)\n",
    "    mlflow.set_tag('n_neuronios', n_neuronios)\n",
    "    mlflow.set_tag('activation', activation)\n",
    "    mlflow.set_tag('drop_out', drop_out)\n",
    "    mlflow.set_tag('epochs', epochs)\n",
    "    \n",
    "\n",
    "    model = Sequential()\n",
    "\n",
    "    # cria camada oculta mais camada de entrada \n",
    "    model.add(Dense(units=n_neuronios, activation=activation, input_dim=784))\n",
    "    model.add(Dropout(drop_out))\n",
    "\n",
    "    # camadas ocultas adicionais \n",
    "\n",
    "    for i in range(n_camadas_ocultas):\n",
    "      model.add(Dense(units=n_neuronios, activation=activation))\n",
    "      model.add(Dropout(drop_out))\n",
    "\n",
    "    # camada de saida\n",
    "\n",
    "    model.add(Dense(units=10, activation='softmax'))\n",
    "\n",
    "    # compilando o modelo\n",
    "\n",
    "    model.compile(optimizer='adam', loss='categorical_crossentropy', metrics=['accuracy'])\n",
    "\n",
    "    model.summary()\n",
    "\n",
    "    history = model.fit(X_train, y_train, epochs=epochs,\n",
    "                        validation_data=(X_test, y_test))\n",
    "    \n",
    "    # Gráfico para erros\n",
    "\n",
    "    history.history.keys()\n",
    "    plt.plot(history.history['val_loss'])\n",
    "    plt.savefig('loss.png')\n",
    "    acuracia = plt.plot(history.history['val_accuracy'])\n",
    "    plt.savefig('accuracy.png')\n",
    "\n",
    "    # registrar os artefatos\n",
    "    mlflow.log_artifact('loss.png')\n",
    "    mlflow.log_artifact('accuracy.png')    \n",
    "    \n",
    "    \n",
    "\n",
    "    # informações de execução\n",
    "\n",
    "    print('Modelo:', mlflow.active_run().info.run_uuid)\n",
    "\n",
    "  mlflow.end_run()\n"
   ]
  },
  {
   "cell_type": "code",
   "execution_count": 8,
   "metadata": {},
   "outputs": [
    {
     "name": "stderr",
     "output_type": "stream",
     "text": [
      "2023/09/29 08:58:45 INFO mlflow.tracking.fluent: Experiment with name 'dl_experimento' does not exist. Creating a new experiment.\n",
      "2023/09/29 08:58:45 WARNING mlflow.utils.autologging_utils: You are using an unsupported version of tensorflow. If you encounter errors during autologging, try upgrading / downgrading tensorflow to a supported version, or try upgrading MLflow.\n"
     ]
    },
    {
     "name": "stdout",
     "output_type": "stream",
     "text": [
      "Model: \"sequential\"\n",
      "_________________________________________________________________\n",
      " Layer (type)                Output Shape              Param #   \n",
      "=================================================================\n",
      " dense (Dense)               (None, 16)                12560     \n",
      "                                                                 \n",
      " dropout (Dropout)           (None, 16)                0         \n",
      "                                                                 \n",
      " dense_1 (Dense)             (None, 16)                272       \n",
      "                                                                 \n",
      " dropout_1 (Dropout)         (None, 16)                0         \n",
      "                                                                 \n",
      " dense_2 (Dense)             (None, 16)                272       \n",
      "                                                                 \n",
      " dropout_2 (Dropout)         (None, 16)                0         \n",
      "                                                                 \n",
      " dense_3 (Dense)             (None, 10)                170       \n",
      "                                                                 \n",
      "=================================================================\n",
      "Total params: 13274 (51.85 KB)\n",
      "Trainable params: 13274 (51.85 KB)\n",
      "Non-trainable params: 0 (0.00 Byte)\n",
      "_________________________________________________________________\n",
      "Epoch 1/2\n",
      "   2/1875 [..............................] - ETA: 1:35 - loss: 2.2994 - accuracy: 0.0625   WARNING:tensorflow:Callback method `on_train_batch_end` is slow compared to the batch time (batch time: 0.0029s vs `on_train_batch_end` time: 0.0756s). Check your callbacks.\n",
      "1875/1875 [==============================] - 10s 3ms/step - loss: 1.0904 - accuracy: 0.6239 - val_loss: 0.4039 - val_accuracy: 0.8992\n",
      "Epoch 2/2\n",
      "1875/1875 [==============================] - 6s 3ms/step - loss: 0.7358 - accuracy: 0.7696 - val_loss: 0.3524 - val_accuracy: 0.9084\n",
      "1/1 [==============================] - 0s 113ms/step\n",
      "INFO:tensorflow:Assets written to: C:\\Users\\BLUESH~1\\AppData\\Local\\Temp\\tmpejqr5bm2\\model\\data\\model\\assets\n"
     ]
    },
    {
     "name": "stderr",
     "output_type": "stream",
     "text": [
      "INFO:tensorflow:Assets written to: C:\\Users\\BLUESH~1\\AppData\\Local\\Temp\\tmpejqr5bm2\\model\\data\\model\\assets\n",
      "2023/09/29 08:59:28 WARNING mlflow.utils.autologging_utils: MLflow autologging encountered a warning: \"c:\\Users\\BlueShift\\AppData\\Local\\Programs\\Python\\Python311\\Lib\\site-packages\\_distutils_hack\\__init__.py:33: UserWarning: Setuptools is replacing distutils.\"\n"
     ]
    },
    {
     "name": "stdout",
     "output_type": "stream",
     "text": [
      "Modelo: e81a11fb867e48c490543d977b1af1c9\n"
     ]
    },
    {
     "data": {
      "image/png": "[encoded data removed]",
      "text/plain": [
       "<Figure size 640x480 with 1 Axes>"
      ]
     },
     "metadata": {},
     "output_type": "display_data"
    }
   ],
   "source": [
    "treina_dl(2, 16, 'relu', 0.2, 2)"
   ]
  },
  {
   "cell_type": "code",
   "execution_count": 9,
   "metadata": {},
   "outputs": [
    {
     "name": "stderr",
     "output_type": "stream",
     "text": [
      "2023/09/29 09:00:25 WARNING mlflow.utils.autologging_utils: You are using an unsupported version of tensorflow. If you encounter errors during autologging, try upgrading / downgrading tensorflow to a supported version, or try upgrading MLflow.\n"
     ]
    },
    {
     "name": "stdout",
     "output_type": "stream",
     "text": [
      "Model: \"sequential_1\"\n",
      "_________________________________________________________________\n",
      " Layer (type)                Output Shape              Param #   \n",
      "=================================================================\n",
      " dense_4 (Dense)             (None, 16)                12560     \n",
      "                                                                 \n",
      " dropout_3 (Dropout)         (None, 16)                0         \n",
      "                                                                 \n",
      " dense_5 (Dense)             (None, 16)                272       \n",
      "                                                                 \n",
      " dropout_4 (Dropout)         (None, 16)                0         \n",
      "                                                                 \n",
      " dense_6 (Dense)             (None, 16)                272       \n",
      "                                                                 \n",
      " dropout_5 (Dropout)         (None, 16)                0         \n",
      "                                                                 \n",
      " dense_7 (Dense)             (None, 10)                170       \n",
      "                                                                 \n",
      "=================================================================\n",
      "Total params: 13274 (51.85 KB)\n",
      "Trainable params: 13274 (51.85 KB)\n",
      "Non-trainable params: 0 (0.00 Byte)\n",
      "_________________________________________________________________\n",
      "Epoch 1/2\n",
      "   1/1875 [..............................] - ETA: 1:59:01 - loss: 2.3005 - accuracy: 0.0625WARNING:tensorflow:Callback method `on_train_batch_end` is slow compared to the batch time (batch time: 0.0025s vs `on_train_batch_end` time: 0.0033s). Check your callbacks.\n"
     ]
    },
    {
     "name": "stderr",
     "output_type": "stream",
     "text": [
      "WARNING:tensorflow:Callback method `on_train_batch_end` is slow compared to the batch time (batch time: 0.0025s vs `on_train_batch_end` time: 0.0033s). Check your callbacks.\n"
     ]
    },
    {
     "name": "stdout",
     "output_type": "stream",
     "text": [
      "1875/1875 [==============================] - 9s 3ms/step - loss: 1.0568 - accuracy: 0.6616 - val_loss: 0.3757 - val_accuracy: 0.9033\n",
      "Epoch 2/2\n",
      "1875/1875 [==============================] - 5s 3ms/step - loss: 0.6869 - accuracy: 0.7904 - val_loss: 0.3173 - val_accuracy: 0.9150\n",
      "1/1 [==============================] - 0s 72ms/step\n",
      "INFO:tensorflow:Assets written to: C:\\Users\\BLUESH~1\\AppData\\Local\\Temp\\tmpp2qg3hvk\\model\\data\\model\\assets\n"
     ]
    },
    {
     "name": "stderr",
     "output_type": "stream",
     "text": [
      "INFO:tensorflow:Assets written to: C:\\Users\\BLUESH~1\\AppData\\Local\\Temp\\tmpp2qg3hvk\\model\\data\\model\\assets\n"
     ]
    },
    {
     "name": "stdout",
     "output_type": "stream",
     "text": [
      "Modelo: 8b4a5a70e9f2427790468960a39e9902\n"
     ]
    },
    {
     "name": "stderr",
     "output_type": "stream",
     "text": [
      "2023/09/29 09:01:00 WARNING mlflow.utils.autologging_utils: You are using an unsupported version of tensorflow. If you encounter errors during autologging, try upgrading / downgrading tensorflow to a supported version, or try upgrading MLflow.\n"
     ]
    },
    {
     "name": "stdout",
     "output_type": "stream",
     "text": [
      "Model: \"sequential_2\"\n",
      "_________________________________________________________________\n",
      " Layer (type)                Output Shape              Param #   \n",
      "=================================================================\n",
      " dense_8 (Dense)             (None, 16)                12560     \n",
      "                                                                 \n",
      " dropout_6 (Dropout)         (None, 16)                0         \n",
      "                                                                 \n",
      " dense_9 (Dense)             (None, 16)                272       \n",
      "                                                                 \n",
      " dropout_7 (Dropout)         (None, 16)                0         \n",
      "                                                                 \n",
      " dense_10 (Dense)            (None, 16)                272       \n",
      "                                                                 \n",
      " dropout_8 (Dropout)         (None, 16)                0         \n",
      "                                                                 \n",
      " dense_11 (Dense)            (None, 10)                170       \n",
      "                                                                 \n",
      "=================================================================\n",
      "Total params: 13274 (51.85 KB)\n",
      "Trainable params: 13274 (51.85 KB)\n",
      "Non-trainable params: 0 (0.00 Byte)\n",
      "_________________________________________________________________\n",
      "Epoch 1/3\n",
      "   1/1875 [..............................] - ETA: 32:22 - loss: 2.2362 - accuracy: 0.2188WARNING:tensorflow:Callback method `on_train_batch_end` is slow compared to the batch time (batch time: 0.0017s vs `on_train_batch_end` time: 0.0027s). Check your callbacks.\n"
     ]
    },
    {
     "name": "stderr",
     "output_type": "stream",
     "text": [
      "WARNING:tensorflow:Callback method `on_train_batch_end` is slow compared to the batch time (batch time: 0.0017s vs `on_train_batch_end` time: 0.0027s). Check your callbacks.\n"
     ]
    },
    {
     "name": "stdout",
     "output_type": "stream",
     "text": [
      "1875/1875 [==============================] - 6s 3ms/step - loss: 1.0242 - accuracy: 0.6569 - val_loss: 0.3838 - val_accuracy: 0.8970\n",
      "Epoch 2/3\n",
      "1875/1875 [==============================] - 5s 3ms/step - loss: 0.6709 - accuracy: 0.7954 - val_loss: 0.3205 - val_accuracy: 0.9148\n",
      "Epoch 3/3\n",
      "1875/1875 [==============================] - 5s 3ms/step - loss: 0.6152 - accuracy: 0.8177 - val_loss: 0.3179 - val_accuracy: 0.9139\n",
      "1/1 [==============================] - 0s 83ms/step\n",
      "INFO:tensorflow:Assets written to: C:\\Users\\BLUESH~1\\AppData\\Local\\Temp\\tmp0273m1o_\\model\\data\\model\\assets\n"
     ]
    },
    {
     "name": "stderr",
     "output_type": "stream",
     "text": [
      "INFO:tensorflow:Assets written to: C:\\Users\\BLUESH~1\\AppData\\Local\\Temp\\tmp0273m1o_\\model\\data\\model\\assets\n"
     ]
    },
    {
     "name": "stdout",
     "output_type": "stream",
     "text": [
      "Modelo: 33202e61d7d14fdf879d1bac7ff57057\n"
     ]
    },
    {
     "name": "stderr",
     "output_type": "stream",
     "text": [
      "2023/09/29 09:01:29 WARNING mlflow.utils.autologging_utils: You are using an unsupported version of tensorflow. If you encounter errors during autologging, try upgrading / downgrading tensorflow to a supported version, or try upgrading MLflow.\n"
     ]
    },
    {
     "name": "stdout",
     "output_type": "stream",
     "text": [
      "Model: \"sequential_3\"\n",
      "_________________________________________________________________\n",
      " Layer (type)                Output Shape              Param #   \n",
      "=================================================================\n",
      " dense_12 (Dense)            (None, 16)                12560     \n",
      "                                                                 \n",
      " dropout_9 (Dropout)         (None, 16)                0         \n",
      "                                                                 \n",
      " dense_13 (Dense)            (None, 16)                272       \n",
      "                                                                 \n",
      " dropout_10 (Dropout)        (None, 16)                0         \n",
      "                                                                 \n",
      " dense_14 (Dense)            (None, 16)                272       \n",
      "                                                                 \n",
      " dropout_11 (Dropout)        (None, 16)                0         \n",
      "                                                                 \n",
      " dense_15 (Dense)            (None, 10)                170       \n",
      "                                                                 \n",
      "=================================================================\n",
      "Total params: 13274 (51.85 KB)\n",
      "Trainable params: 13274 (51.85 KB)\n",
      "Non-trainable params: 0 (0.00 Byte)\n",
      "_________________________________________________________________\n",
      "Epoch 1/2\n",
      "   1/1875 [..............................] - ETA: 28:25 - loss: 2.3283 - accuracy: 0.1250WARNING:tensorflow:Callback method `on_train_batch_end` is slow compared to the batch time (batch time: 0.0019s vs `on_train_batch_end` time: 0.0035s). Check your callbacks.\n"
     ]
    },
    {
     "name": "stderr",
     "output_type": "stream",
     "text": [
      "WARNING:tensorflow:Callback method `on_train_batch_end` is slow compared to the batch time (batch time: 0.0019s vs `on_train_batch_end` time: 0.0035s). Check your callbacks.\n"
     ]
    },
    {
     "name": "stdout",
     "output_type": "stream",
     "text": [
      "1875/1875 [==============================] - 6s 3ms/step - loss: 1.3546 - accuracy: 0.5217 - val_loss: 0.6553 - val_accuracy: 0.8021\n",
      "Epoch 2/2\n",
      "1875/1875 [==============================] - 5s 3ms/step - loss: 1.0072 - accuracy: 0.6396 - val_loss: 0.5700 - val_accuracy: 0.8122\n",
      "1/1 [==============================] - 0s 61ms/step\n",
      "INFO:tensorflow:Assets written to: C:\\Users\\BLUESH~1\\AppData\\Local\\Temp\\tmp9kn3d5wt\\model\\data\\model\\assets\n"
     ]
    },
    {
     "name": "stderr",
     "output_type": "stream",
     "text": [
      "INFO:tensorflow:Assets written to: C:\\Users\\BLUESH~1\\AppData\\Local\\Temp\\tmp9kn3d5wt\\model\\data\\model\\assets\n"
     ]
    },
    {
     "name": "stdout",
     "output_type": "stream",
     "text": [
      "Modelo: 4b2eb3e7a595428898e1c9d6c6c99912\n"
     ]
    },
    {
     "name": "stderr",
     "output_type": "stream",
     "text": [
      "2023/09/29 09:01:54 WARNING mlflow.utils.autologging_utils: You are using an unsupported version of tensorflow. If you encounter errors during autologging, try upgrading / downgrading tensorflow to a supported version, or try upgrading MLflow.\n"
     ]
    },
    {
     "name": "stdout",
     "output_type": "stream",
     "text": [
      "Model: \"sequential_4\"\n",
      "_________________________________________________________________\n",
      " Layer (type)                Output Shape              Param #   \n",
      "=================================================================\n",
      " dense_16 (Dense)            (None, 16)                12560     \n",
      "                                                                 \n",
      " dropout_12 (Dropout)        (None, 16)                0         \n",
      "                                                                 \n",
      " dense_17 (Dense)            (None, 16)                272       \n",
      "                                                                 \n",
      " dropout_13 (Dropout)        (None, 16)                0         \n",
      "                                                                 \n",
      " dense_18 (Dense)            (None, 16)                272       \n",
      "                                                                 \n",
      " dropout_14 (Dropout)        (None, 16)                0         \n",
      "                                                                 \n",
      " dense_19 (Dense)            (None, 10)                170       \n",
      "                                                                 \n",
      "=================================================================\n",
      "Total params: 13274 (51.85 KB)\n",
      "Trainable params: 13274 (51.85 KB)\n",
      "Non-trainable params: 0 (0.00 Byte)\n",
      "_________________________________________________________________\n",
      "Epoch 1/3\n",
      "   1/1875 [..............................] - ETA: 43:22 - loss: 2.3435 - accuracy: 0.0312WARNING:tensorflow:Callback method `on_train_batch_end` is slow compared to the batch time (batch time: 0.0018s vs `on_train_batch_end` time: 0.0039s). Check your callbacks.\n"
     ]
    },
    {
     "name": "stderr",
     "output_type": "stream",
     "text": [
      "WARNING:tensorflow:Callback method `on_train_batch_end` is slow compared to the batch time (batch time: 0.0018s vs `on_train_batch_end` time: 0.0039s). Check your callbacks.\n"
     ]
    },
    {
     "name": "stdout",
     "output_type": "stream",
     "text": [
      "1875/1875 [==============================] - 8s 3ms/step - loss: 1.2843 - accuracy: 0.5567 - val_loss: 0.5195 - val_accuracy: 0.8764\n",
      "Epoch 2/3\n",
      "1875/1875 [==============================] - 5s 3ms/step - loss: 0.9141 - accuracy: 0.7082 - val_loss: 0.4185 - val_accuracy: 0.9012\n",
      "Epoch 3/3\n",
      "1875/1875 [==============================] - 5s 3ms/step - loss: 0.8371 - accuracy: 0.7441 - val_loss: 0.3836 - val_accuracy: 0.9094\n",
      "WARNING:tensorflow:5 out of the last 5 calls to <function Model.make_predict_function.<locals>.predict_function at 0x0000028B26256160> triggered tf.function retracing. Tracing is expensive and the excessive number of tracings could be due to (1) creating @tf.function repeatedly in a loop, (2) passing tensors with different shapes, (3) passing Python objects instead of tensors. For (1), please define your @tf.function outside of the loop. For (2), @tf.function has reduce_retracing=True option that can avoid unnecessary retracing. For (3), please refer to https://www.tensorflow.org/guide/function#controlling_retracing and https://www.tensorflow.org/api_docs/python/tf/function for  more details.\n"
     ]
    },
    {
     "name": "stderr",
     "output_type": "stream",
     "text": [
      "WARNING:tensorflow:5 out of the last 5 calls to <function Model.make_predict_function.<locals>.predict_function at 0x0000028B26256160> triggered tf.function retracing. Tracing is expensive and the excessive number of tracings could be due to (1) creating @tf.function repeatedly in a loop, (2) passing tensors with different shapes, (3) passing Python objects instead of tensors. For (1), please define your @tf.function outside of the loop. For (2), @tf.function has reduce_retracing=True option that can avoid unnecessary retracing. For (3), please refer to https://www.tensorflow.org/guide/function#controlling_retracing and https://www.tensorflow.org/api_docs/python/tf/function for  more details.\n"
     ]
    },
    {
     "name": "stdout",
     "output_type": "stream",
     "text": [
      "1/1 [==============================] - 0s 66ms/step\n",
      "INFO:tensorflow:Assets written to: C:\\Users\\BLUESH~1\\AppData\\Local\\Temp\\tmp4gyjtr76\\model\\data\\model\\assets\n"
     ]
    },
    {
     "name": "stderr",
     "output_type": "stream",
     "text": [
      "INFO:tensorflow:Assets written to: C:\\Users\\BLUESH~1\\AppData\\Local\\Temp\\tmp4gyjtr76\\model\\data\\model\\assets\n"
     ]
    },
    {
     "name": "stdout",
     "output_type": "stream",
     "text": [
      "Modelo: 06c27360ab74438d8ad7761c7ed55f4f\n"
     ]
    },
    {
     "name": "stderr",
     "output_type": "stream",
     "text": [
      "2023/09/29 09:02:25 WARNING mlflow.utils.autologging_utils: You are using an unsupported version of tensorflow. If you encounter errors during autologging, try upgrading / downgrading tensorflow to a supported version, or try upgrading MLflow.\n"
     ]
    },
    {
     "name": "stdout",
     "output_type": "stream",
     "text": [
      "Model: \"sequential_5\"\n",
      "_________________________________________________________________\n",
      " Layer (type)                Output Shape              Param #   \n",
      "=================================================================\n",
      " dense_20 (Dense)            (None, 16)                12560     \n",
      "                                                                 \n",
      " dropout_15 (Dropout)        (None, 16)                0         \n",
      "                                                                 \n",
      " dense_21 (Dense)            (None, 16)                272       \n",
      "                                                                 \n",
      " dropout_16 (Dropout)        (None, 16)                0         \n",
      "                                                                 \n",
      " dense_22 (Dense)            (None, 16)                272       \n",
      "                                                                 \n",
      " dropout_17 (Dropout)        (None, 16)                0         \n",
      "                                                                 \n",
      " dense_23 (Dense)            (None, 10)                170       \n",
      "                                                                 \n",
      "=================================================================\n",
      "Total params: 13274 (51.85 KB)\n",
      "Trainable params: 13274 (51.85 KB)\n",
      "Non-trainable params: 0 (0.00 Byte)\n",
      "_________________________________________________________________\n",
      "Epoch 1/2\n",
      "   1/1875 [..............................] - ETA: 27:35 - loss: 2.5726 - accuracy: 0.0312WARNING:tensorflow:Callback method `on_train_batch_end` is slow compared to the batch time (batch time: 0.0021s vs `on_train_batch_end` time: 0.0022s). Check your callbacks.\n"
     ]
    },
    {
     "name": "stderr",
     "output_type": "stream",
     "text": [
      "WARNING:tensorflow:Callback method `on_train_batch_end` is slow compared to the batch time (batch time: 0.0021s vs `on_train_batch_end` time: 0.0022s). Check your callbacks.\n"
     ]
    },
    {
     "name": "stdout",
     "output_type": "stream",
     "text": [
      "1875/1875 [==============================] - 6s 3ms/step - loss: 0.8335 - accuracy: 0.7429 - val_loss: 0.3785 - val_accuracy: 0.8922\n",
      "Epoch 2/2\n",
      "1875/1875 [==============================] - 5s 3ms/step - loss: 0.5380 - accuracy: 0.8435 - val_loss: 0.3230 - val_accuracy: 0.9080\n",
      "WARNING:tensorflow:6 out of the last 6 calls to <function Model.make_predict_function.<locals>.predict_function at 0x0000028B50810EA0> triggered tf.function retracing. Tracing is expensive and the excessive number of tracings could be due to (1) creating @tf.function repeatedly in a loop, (2) passing tensors with different shapes, (3) passing Python objects instead of tensors. For (1), please define your @tf.function outside of the loop. For (2), @tf.function has reduce_retracing=True option that can avoid unnecessary retracing. For (3), please refer to https://www.tensorflow.org/guide/function#controlling_retracing and https://www.tensorflow.org/api_docs/python/tf/function for  more details.\n"
     ]
    },
    {
     "name": "stderr",
     "output_type": "stream",
     "text": [
      "WARNING:tensorflow:6 out of the last 6 calls to <function Model.make_predict_function.<locals>.predict_function at 0x0000028B50810EA0> triggered tf.function retracing. Tracing is expensive and the excessive number of tracings could be due to (1) creating @tf.function repeatedly in a loop, (2) passing tensors with different shapes, (3) passing Python objects instead of tensors. For (1), please define your @tf.function outside of the loop. For (2), @tf.function has reduce_retracing=True option that can avoid unnecessary retracing. For (3), please refer to https://www.tensorflow.org/guide/function#controlling_retracing and https://www.tensorflow.org/api_docs/python/tf/function for  more details.\n"
     ]
    },
    {
     "name": "stdout",
     "output_type": "stream",
     "text": [
      "1/1 [==============================] - 1s 1s/step\n",
      "INFO:tensorflow:Assets written to: C:\\Users\\BLUESH~1\\AppData\\Local\\Temp\\tmp77wgy5lb\\model\\data\\model\\assets\n"
     ]
    },
    {
     "name": "stderr",
     "output_type": "stream",
     "text": [
      "INFO:tensorflow:Assets written to: C:\\Users\\BLUESH~1\\AppData\\Local\\Temp\\tmp77wgy5lb\\model\\data\\model\\assets\n"
     ]
    },
    {
     "name": "stdout",
     "output_type": "stream",
     "text": [
      "Modelo: a53ca7fac0b34ad0ac827b905d6fd96f\n"
     ]
    },
    {
     "name": "stderr",
     "output_type": "stream",
     "text": [
      "2023/09/29 09:02:48 WARNING mlflow.utils.autologging_utils: You are using an unsupported version of tensorflow. If you encounter errors during autologging, try upgrading / downgrading tensorflow to a supported version, or try upgrading MLflow.\n"
     ]
    },
    {
     "name": "stdout",
     "output_type": "stream",
     "text": [
      "Model: \"sequential_6\"\n",
      "_________________________________________________________________\n",
      " Layer (type)                Output Shape              Param #   \n",
      "=================================================================\n",
      " dense_24 (Dense)            (None, 16)                12560     \n",
      "                                                                 \n",
      " dropout_18 (Dropout)        (None, 16)                0         \n",
      "                                                                 \n",
      " dense_25 (Dense)            (None, 16)                272       \n",
      "                                                                 \n",
      " dropout_19 (Dropout)        (None, 16)                0         \n",
      "                                                                 \n",
      " dense_26 (Dense)            (None, 16)                272       \n",
      "                                                                 \n",
      " dropout_20 (Dropout)        (None, 16)                0         \n",
      "                                                                 \n",
      " dense_27 (Dense)            (None, 10)                170       \n",
      "                                                                 \n",
      "=================================================================\n",
      "Total params: 13274 (51.85 KB)\n",
      "Trainable params: 13274 (51.85 KB)\n",
      "Non-trainable params: 0 (0.00 Byte)\n",
      "_________________________________________________________________\n",
      "Epoch 1/3\n",
      "1875/1875 [==============================] - 5s 2ms/step - loss: 0.7940 - accuracy: 0.7685 - val_loss: 0.3518 - val_accuracy: 0.8980\n",
      "Epoch 2/3\n",
      "1875/1875 [==============================] - 5s 3ms/step - loss: 0.5228 - accuracy: 0.8501 - val_loss: 0.3121 - val_accuracy: 0.9100\n",
      "Epoch 3/3\n",
      "1875/1875 [==============================] - 5s 3ms/step - loss: 0.4852 - accuracy: 0.8599 - val_loss: 0.2953 - val_accuracy: 0.9117\n",
      "1/1 [==============================] - 0s 82ms/step\n",
      "INFO:tensorflow:Assets written to: C:\\Users\\BLUESH~1\\AppData\\Local\\Temp\\tmp9dk6cvld\\model\\data\\model\\assets\n"
     ]
    },
    {
     "name": "stderr",
     "output_type": "stream",
     "text": [
      "INFO:tensorflow:Assets written to: C:\\Users\\BLUESH~1\\AppData\\Local\\Temp\\tmp9dk6cvld\\model\\data\\model\\assets\n"
     ]
    },
    {
     "name": "stdout",
     "output_type": "stream",
     "text": [
      "Modelo: 63cdd3ac3cf842b5a781999f4f0567ee\n"
     ]
    },
    {
     "name": "stderr",
     "output_type": "stream",
     "text": [
      "2023/09/29 09:03:14 WARNING mlflow.utils.autologging_utils: You are using an unsupported version of tensorflow. If you encounter errors during autologging, try upgrading / downgrading tensorflow to a supported version, or try upgrading MLflow.\n"
     ]
    },
    {
     "name": "stdout",
     "output_type": "stream",
     "text": [
      "Model: \"sequential_7\"\n",
      "_________________________________________________________________\n",
      " Layer (type)                Output Shape              Param #   \n",
      "=================================================================\n",
      " dense_28 (Dense)            (None, 16)                12560     \n",
      "                                                                 \n",
      " dropout_21 (Dropout)        (None, 16)                0         \n",
      "                                                                 \n",
      " dense_29 (Dense)            (None, 16)                272       \n",
      "                                                                 \n",
      " dropout_22 (Dropout)        (None, 16)                0         \n",
      "                                                                 \n",
      " dense_30 (Dense)            (None, 16)                272       \n",
      "                                                                 \n",
      " dropout_23 (Dropout)        (None, 16)                0         \n",
      "                                                                 \n",
      " dense_31 (Dense)            (None, 10)                170       \n",
      "                                                                 \n",
      "=================================================================\n",
      "Total params: 13274 (51.85 KB)\n",
      "Trainable params: 13274 (51.85 KB)\n",
      "Non-trainable params: 0 (0.00 Byte)\n",
      "_________________________________________________________________\n",
      "Epoch 1/2\n",
      "   1/1875 [..............................] - ETA: 22:08 - loss: 2.4307 - accuracy: 0.1250WARNING:tensorflow:Callback method `on_train_batch_end` is slow compared to the batch time (batch time: 0.0000s vs `on_train_batch_end` time: 0.0030s). Check your callbacks.\n"
     ]
    },
    {
     "name": "stderr",
     "output_type": "stream",
     "text": [
      "WARNING:tensorflow:Callback method `on_train_batch_end` is slow compared to the batch time (batch time: 0.0000s vs `on_train_batch_end` time: 0.0030s). Check your callbacks.\n"
     ]
    },
    {
     "name": "stdout",
     "output_type": "stream",
     "text": [
      "1875/1875 [==============================] - 5s 2ms/step - loss: 1.0185 - accuracy: 0.6690 - val_loss: 0.4062 - val_accuracy: 0.8838\n",
      "Epoch 2/2\n",
      "1875/1875 [==============================] - 4s 2ms/step - loss: 0.7053 - accuracy: 0.7856 - val_loss: 0.3570 - val_accuracy: 0.8960\n",
      "1/1 [==============================] - 0s 57ms/step\n",
      "INFO:tensorflow:Assets written to: C:\\Users\\BLUESH~1\\AppData\\Local\\Temp\\tmpbwlo69x5\\model\\data\\model\\assets\n"
     ]
    },
    {
     "name": "stderr",
     "output_type": "stream",
     "text": [
      "INFO:tensorflow:Assets written to: C:\\Users\\BLUESH~1\\AppData\\Local\\Temp\\tmpbwlo69x5\\model\\data\\model\\assets\n"
     ]
    },
    {
     "name": "stdout",
     "output_type": "stream",
     "text": [
      "Modelo: 567b65b6468c48ed8271b72c6e9f65e9\n"
     ]
    },
    {
     "name": "stderr",
     "output_type": "stream",
     "text": [
      "2023/09/29 09:03:34 WARNING mlflow.utils.autologging_utils: You are using an unsupported version of tensorflow. If you encounter errors during autologging, try upgrading / downgrading tensorflow to a supported version, or try upgrading MLflow.\n"
     ]
    },
    {
     "name": "stdout",
     "output_type": "stream",
     "text": [
      "Model: \"sequential_8\"\n",
      "_________________________________________________________________\n",
      " Layer (type)                Output Shape              Param #   \n",
      "=================================================================\n",
      " dense_32 (Dense)            (None, 16)                12560     \n",
      "                                                                 \n",
      " dropout_24 (Dropout)        (None, 16)                0         \n",
      "                                                                 \n",
      " dense_33 (Dense)            (None, 16)                272       \n",
      "                                                                 \n",
      " dropout_25 (Dropout)        (None, 16)                0         \n",
      "                                                                 \n",
      " dense_34 (Dense)            (None, 16)                272       \n",
      "                                                                 \n",
      " dropout_26 (Dropout)        (None, 16)                0         \n",
      "                                                                 \n",
      " dense_35 (Dense)            (None, 10)                170       \n",
      "                                                                 \n",
      "=================================================================\n",
      "Total params: 13274 (51.85 KB)\n",
      "Trainable params: 13274 (51.85 KB)\n",
      "Non-trainable params: 0 (0.00 Byte)\n",
      "_________________________________________________________________\n",
      "Epoch 1/3\n",
      "   1/1875 [..............................] - ETA: 24:37 - loss: 2.4096 - accuracy: 0.1562WARNING:tensorflow:Callback method `on_train_batch_end` is slow compared to the batch time (batch time: 0.0014s vs `on_train_batch_end` time: 0.0024s). Check your callbacks.\n"
     ]
    },
    {
     "name": "stderr",
     "output_type": "stream",
     "text": [
      "WARNING:tensorflow:Callback method `on_train_batch_end` is slow compared to the batch time (batch time: 0.0014s vs `on_train_batch_end` time: 0.0024s). Check your callbacks.\n"
     ]
    },
    {
     "name": "stdout",
     "output_type": "stream",
     "text": [
      "1875/1875 [==============================] - 5s 2ms/step - loss: 0.9949 - accuracy: 0.6768 - val_loss: 0.3940 - val_accuracy: 0.8888\n",
      "Epoch 2/3\n",
      "1875/1875 [==============================] - 4s 2ms/step - loss: 0.6842 - accuracy: 0.7935 - val_loss: 0.3415 - val_accuracy: 0.9036\n",
      "Epoch 3/3\n",
      "1875/1875 [==============================] - 4s 2ms/step - loss: 0.6231 - accuracy: 0.8178 - val_loss: 0.3251 - val_accuracy: 0.9089\n",
      "1/1 [==============================] - 0s 64ms/step\n",
      "INFO:tensorflow:Assets written to: C:\\Users\\BLUESH~1\\AppData\\Local\\Temp\\tmpepqdrfc0\\model\\data\\model\\assets\n"
     ]
    },
    {
     "name": "stderr",
     "output_type": "stream",
     "text": [
      "INFO:tensorflow:Assets written to: C:\\Users\\BLUESH~1\\AppData\\Local\\Temp\\tmpepqdrfc0\\model\\data\\model\\assets\n"
     ]
    },
    {
     "name": "stdout",
     "output_type": "stream",
     "text": [
      "Modelo: 7848d236c90446198dc3267394b354c6\n"
     ]
    },
    {
     "name": "stderr",
     "output_type": "stream",
     "text": [
      "2023/09/29 09:03:58 WARNING mlflow.utils.autologging_utils: You are using an unsupported version of tensorflow. If you encounter errors during autologging, try upgrading / downgrading tensorflow to a supported version, or try upgrading MLflow.\n"
     ]
    },
    {
     "name": "stdout",
     "output_type": "stream",
     "text": [
      "Model: \"sequential_9\"\n",
      "_________________________________________________________________\n",
      " Layer (type)                Output Shape              Param #   \n",
      "=================================================================\n",
      " dense_36 (Dense)            (None, 32)                25120     \n",
      "                                                                 \n",
      " dropout_27 (Dropout)        (None, 32)                0         \n",
      "                                                                 \n",
      " dense_37 (Dense)            (None, 32)                1056      \n",
      "                                                                 \n",
      " dropout_28 (Dropout)        (None, 32)                0         \n",
      "                                                                 \n",
      " dense_38 (Dense)            (None, 32)                1056      \n",
      "                                                                 \n",
      " dropout_29 (Dropout)        (None, 32)                0         \n",
      "                                                                 \n",
      " dense_39 (Dense)            (None, 10)                330       \n",
      "                                                                 \n",
      "=================================================================\n",
      "Total params: 27562 (107.66 KB)\n",
      "Trainable params: 27562 (107.66 KB)\n",
      "Non-trainable params: 0 (0.00 Byte)\n",
      "_________________________________________________________________\n",
      "Epoch 1/2\n",
      "   1/1875 [..............................] - ETA: 25:06 - loss: 2.3212 - accuracy: 0.1250WARNING:tensorflow:Callback method `on_train_batch_end` is slow compared to the batch time (batch time: 0.0007s vs `on_train_batch_end` time: 0.0019s). Check your callbacks.\n"
     ]
    },
    {
     "name": "stderr",
     "output_type": "stream",
     "text": [
      "WARNING:tensorflow:Callback method `on_train_batch_end` is slow compared to the batch time (batch time: 0.0007s vs `on_train_batch_end` time: 0.0019s). Check your callbacks.\n"
     ]
    },
    {
     "name": "stdout",
     "output_type": "stream",
     "text": [
      "1875/1875 [==============================] - 5s 2ms/step - loss: 0.6617 - accuracy: 0.7940 - val_loss: 0.2457 - val_accuracy: 0.9285\n",
      "Epoch 2/2\n",
      "1875/1875 [==============================] - 4s 2ms/step - loss: 0.3676 - accuracy: 0.8967 - val_loss: 0.1926 - val_accuracy: 0.9433\n",
      "1/1 [==============================] - 0s 65ms/step\n",
      "INFO:tensorflow:Assets written to: C:\\Users\\BLUESH~1\\AppData\\Local\\Temp\\tmphkrllth8\\model\\data\\model\\assets\n"
     ]
    },
    {
     "name": "stderr",
     "output_type": "stream",
     "text": [
      "INFO:tensorflow:Assets written to: C:\\Users\\BLUESH~1\\AppData\\Local\\Temp\\tmphkrllth8\\model\\data\\model\\assets\n"
     ]
    },
    {
     "name": "stdout",
     "output_type": "stream",
     "text": [
      "Modelo: e52ceb16cf2746ce8a48c809d2f6ad09\n"
     ]
    },
    {
     "name": "stderr",
     "output_type": "stream",
     "text": [
      "2023/09/29 09:04:18 WARNING mlflow.utils.autologging_utils: You are using an unsupported version of tensorflow. If you encounter errors during autologging, try upgrading / downgrading tensorflow to a supported version, or try upgrading MLflow.\n"
     ]
    },
    {
     "name": "stdout",
     "output_type": "stream",
     "text": [
      "Model: \"sequential_10\"\n",
      "_________________________________________________________________\n",
      " Layer (type)                Output Shape              Param #   \n",
      "=================================================================\n",
      " dense_40 (Dense)            (None, 32)                25120     \n",
      "                                                                 \n",
      " dropout_30 (Dropout)        (None, 32)                0         \n",
      "                                                                 \n",
      " dense_41 (Dense)            (None, 32)                1056      \n",
      "                                                                 \n",
      " dropout_31 (Dropout)        (None, 32)                0         \n",
      "                                                                 \n",
      " dense_42 (Dense)            (None, 32)                1056      \n",
      "                                                                 \n",
      " dropout_32 (Dropout)        (None, 32)                0         \n",
      "                                                                 \n",
      " dense_43 (Dense)            (None, 10)                330       \n",
      "                                                                 \n",
      "=================================================================\n",
      "Total params: 27562 (107.66 KB)\n",
      "Trainable params: 27562 (107.66 KB)\n",
      "Non-trainable params: 0 (0.00 Byte)\n",
      "_________________________________________________________________\n",
      "Epoch 1/3\n",
      "1875/1875 [==============================] - 6s 2ms/step - loss: 0.6602 - accuracy: 0.7938 - val_loss: 0.2399 - val_accuracy: 0.9292\n",
      "Epoch 2/3\n",
      "1875/1875 [==============================] - 4s 2ms/step - loss: 0.3808 - accuracy: 0.8905 - val_loss: 0.1996 - val_accuracy: 0.9410\n",
      "Epoch 3/3\n",
      "1875/1875 [==============================] - 4s 2ms/step - loss: 0.3306 - accuracy: 0.9052 - val_loss: 0.1791 - val_accuracy: 0.9470\n",
      "1/1 [==============================] - 0s 58ms/step\n",
      "INFO:tensorflow:Assets written to: C:\\Users\\BLUESH~1\\AppData\\Local\\Temp\\tmpc_qb6pqv\\model\\data\\model\\assets\n"
     ]
    },
    {
     "name": "stderr",
     "output_type": "stream",
     "text": [
      "INFO:tensorflow:Assets written to: C:\\Users\\BLUESH~1\\AppData\\Local\\Temp\\tmpc_qb6pqv\\model\\data\\model\\assets\n"
     ]
    },
    {
     "name": "stdout",
     "output_type": "stream",
     "text": [
      "Modelo: f8391f601b86403fa46797fde07b7f96\n"
     ]
    },
    {
     "name": "stderr",
     "output_type": "stream",
     "text": [
      "2023/09/29 09:04:43 WARNING mlflow.utils.autologging_utils: You are using an unsupported version of tensorflow. If you encounter errors during autologging, try upgrading / downgrading tensorflow to a supported version, or try upgrading MLflow.\n"
     ]
    },
    {
     "name": "stdout",
     "output_type": "stream",
     "text": [
      "Model: \"sequential_11\"\n",
      "_________________________________________________________________\n",
      " Layer (type)                Output Shape              Param #   \n",
      "=================================================================\n",
      " dense_44 (Dense)            (None, 32)                25120     \n",
      "                                                                 \n",
      " dropout_33 (Dropout)        (None, 32)                0         \n",
      "                                                                 \n",
      " dense_45 (Dense)            (None, 32)                1056      \n",
      "                                                                 \n",
      " dropout_34 (Dropout)        (None, 32)                0         \n",
      "                                                                 \n",
      " dense_46 (Dense)            (None, 32)                1056      \n",
      "                                                                 \n",
      " dropout_35 (Dropout)        (None, 32)                0         \n",
      "                                                                 \n",
      " dense_47 (Dense)            (None, 10)                330       \n",
      "                                                                 \n",
      "=================================================================\n",
      "Total params: 27562 (107.66 KB)\n",
      "Trainable params: 27562 (107.66 KB)\n",
      "Non-trainable params: 0 (0.00 Byte)\n",
      "_________________________________________________________________\n",
      "Epoch 1/2\n",
      "   1/1875 [..............................] - ETA: 22:44 - loss: 2.3073 - accuracy: 0.1562WARNING:tensorflow:Callback method `on_train_batch_end` is slow compared to the batch time (batch time: 0.0009s vs `on_train_batch_end` time: 0.0028s). Check your callbacks.\n"
     ]
    },
    {
     "name": "stderr",
     "output_type": "stream",
     "text": [
      "WARNING:tensorflow:Callback method `on_train_batch_end` is slow compared to the batch time (batch time: 0.0009s vs `on_train_batch_end` time: 0.0028s). Check your callbacks.\n"
     ]
    },
    {
     "name": "stdout",
     "output_type": "stream",
     "text": [
      "1875/1875 [==============================] - 5s 3ms/step - loss: 0.8435 - accuracy: 0.7316 - val_loss: 0.2745 - val_accuracy: 0.9203\n",
      "Epoch 2/2\n",
      "1875/1875 [==============================] - 5s 3ms/step - loss: 0.5146 - accuracy: 0.8532 - val_loss: 0.2492 - val_accuracy: 0.9309\n",
      "1/1 [==============================] - 0s 58ms/step\n",
      "INFO:tensorflow:Assets written to: C:\\Users\\BLUESH~1\\AppData\\Local\\Temp\\tmp6tchpq34\\model\\data\\model\\assets\n"
     ]
    },
    {
     "name": "stderr",
     "output_type": "stream",
     "text": [
      "INFO:tensorflow:Assets written to: C:\\Users\\BLUESH~1\\AppData\\Local\\Temp\\tmp6tchpq34\\model\\data\\model\\assets\n"
     ]
    },
    {
     "name": "stdout",
     "output_type": "stream",
     "text": [
      "Modelo: 6dcf08de613d4b1fb4f7de055c2e91f0\n"
     ]
    },
    {
     "name": "stderr",
     "output_type": "stream",
     "text": [
      "2023/09/29 09:05:04 WARNING mlflow.utils.autologging_utils: You are using an unsupported version of tensorflow. If you encounter errors during autologging, try upgrading / downgrading tensorflow to a supported version, or try upgrading MLflow.\n"
     ]
    },
    {
     "name": "stdout",
     "output_type": "stream",
     "text": [
      "Model: \"sequential_12\"\n",
      "_________________________________________________________________\n",
      " Layer (type)                Output Shape              Param #   \n",
      "=================================================================\n",
      " dense_48 (Dense)            (None, 32)                25120     \n",
      "                                                                 \n",
      " dropout_36 (Dropout)        (None, 32)                0         \n",
      "                                                                 \n",
      " dense_49 (Dense)            (None, 32)                1056      \n",
      "                                                                 \n",
      " dropout_37 (Dropout)        (None, 32)                0         \n",
      "                                                                 \n",
      " dense_50 (Dense)            (None, 32)                1056      \n",
      "                                                                 \n",
      " dropout_38 (Dropout)        (None, 32)                0         \n",
      "                                                                 \n",
      " dense_51 (Dense)            (None, 10)                330       \n",
      "                                                                 \n",
      "=================================================================\n",
      "Total params: 27562 (107.66 KB)\n",
      "Trainable params: 27562 (107.66 KB)\n",
      "Non-trainable params: 0 (0.00 Byte)\n",
      "_________________________________________________________________\n",
      "Epoch 1/3\n",
      "   1/1875 [..............................] - ETA: 24:50 - loss: 2.3330 - accuracy: 0.1250WARNING:tensorflow:Callback method `on_train_batch_end` is slow compared to the batch time (batch time: 0.0019s vs `on_train_batch_end` time: 0.0028s). Check your callbacks.\n"
     ]
    },
    {
     "name": "stderr",
     "output_type": "stream",
     "text": [
      "WARNING:tensorflow:Callback method `on_train_batch_end` is slow compared to the batch time (batch time: 0.0019s vs `on_train_batch_end` time: 0.0028s). Check your callbacks.\n"
     ]
    },
    {
     "name": "stdout",
     "output_type": "stream",
     "text": [
      "1875/1875 [==============================] - 6s 3ms/step - loss: 0.8594 - accuracy: 0.7158 - val_loss: 0.2837 - val_accuracy: 0.9203\n",
      "Epoch 2/3\n",
      "1875/1875 [==============================] - 4s 2ms/step - loss: 0.5126 - accuracy: 0.8508 - val_loss: 0.2558 - val_accuracy: 0.9320\n",
      "Epoch 3/3\n",
      "1875/1875 [==============================] - 4s 2ms/step - loss: 0.4540 - accuracy: 0.8704 - val_loss: 0.2110 - val_accuracy: 0.9407\n",
      "1/1 [==============================] - 0s 58ms/step\n",
      "INFO:tensorflow:Assets written to: C:\\Users\\BLUESH~1\\AppData\\Local\\Temp\\tmpiehm92nd\\model\\data\\model\\assets\n"
     ]
    },
    {
     "name": "stderr",
     "output_type": "stream",
     "text": [
      "INFO:tensorflow:Assets written to: C:\\Users\\BLUESH~1\\AppData\\Local\\Temp\\tmpiehm92nd\\model\\data\\model\\assets\n"
     ]
    },
    {
     "name": "stdout",
     "output_type": "stream",
     "text": [
      "Modelo: 369dcbbf1448460eab7c24a4040c61c7\n"
     ]
    },
    {
     "name": "stderr",
     "output_type": "stream",
     "text": [
      "2023/09/29 09:05:31 WARNING mlflow.utils.autologging_utils: You are using an unsupported version of tensorflow. If you encounter errors during autologging, try upgrading / downgrading tensorflow to a supported version, or try upgrading MLflow.\n"
     ]
    },
    {
     "name": "stdout",
     "output_type": "stream",
     "text": [
      "Model: \"sequential_13\"\n",
      "_________________________________________________________________\n",
      " Layer (type)                Output Shape              Param #   \n",
      "=================================================================\n",
      " dense_52 (Dense)            (None, 32)                25120     \n",
      "                                                                 \n",
      " dropout_39 (Dropout)        (None, 32)                0         \n",
      "                                                                 \n",
      " dense_53 (Dense)            (None, 32)                1056      \n",
      "                                                                 \n",
      " dropout_40 (Dropout)        (None, 32)                0         \n",
      "                                                                 \n",
      " dense_54 (Dense)            (None, 32)                1056      \n",
      "                                                                 \n",
      " dropout_41 (Dropout)        (None, 32)                0         \n",
      "                                                                 \n",
      " dense_55 (Dense)            (None, 10)                330       \n",
      "                                                                 \n",
      "=================================================================\n",
      "Total params: 27562 (107.66 KB)\n",
      "Trainable params: 27562 (107.66 KB)\n",
      "Non-trainable params: 0 (0.00 Byte)\n",
      "_________________________________________________________________\n",
      "Epoch 1/2\n",
      "   1/1875 [..............................] - ETA: 20:47 - loss: 2.3242 - accuracy: 0.1562WARNING:tensorflow:Callback method `on_train_batch_end` is slow compared to the batch time (batch time: 0.0002s vs `on_train_batch_end` time: 0.0027s). Check your callbacks.\n"
     ]
    },
    {
     "name": "stderr",
     "output_type": "stream",
     "text": [
      "WARNING:tensorflow:Callback method `on_train_batch_end` is slow compared to the batch time (batch time: 0.0002s vs `on_train_batch_end` time: 0.0027s). Check your callbacks.\n"
     ]
    },
    {
     "name": "stdout",
     "output_type": "stream",
     "text": [
      "1875/1875 [==============================] - 5s 2ms/step - loss: 0.5322 - accuracy: 0.8469 - val_loss: 0.2714 - val_accuracy: 0.9209\n",
      "Epoch 2/2\n",
      "1875/1875 [==============================] - 4s 2ms/step - loss: 0.3376 - accuracy: 0.9025 - val_loss: 0.2167 - val_accuracy: 0.9364\n",
      "1/1 [==============================] - 0s 54ms/step\n",
      "INFO:tensorflow:Assets written to: C:\\Users\\BLUESH~1\\AppData\\Local\\Temp\\tmpwokv_nre\\model\\data\\model\\assets\n"
     ]
    },
    {
     "name": "stderr",
     "output_type": "stream",
     "text": [
      "INFO:tensorflow:Assets written to: C:\\Users\\BLUESH~1\\AppData\\Local\\Temp\\tmpwokv_nre\\model\\data\\model\\assets\n"
     ]
    },
    {
     "name": "stdout",
     "output_type": "stream",
     "text": [
      "Modelo: c281cb8c4ff34bb69d00fbe3c8450503\n"
     ]
    },
    {
     "name": "stderr",
     "output_type": "stream",
     "text": [
      "2023/09/29 09:05:55 WARNING mlflow.utils.autologging_utils: You are using an unsupported version of tensorflow. If you encounter errors during autologging, try upgrading / downgrading tensorflow to a supported version, or try upgrading MLflow.\n"
     ]
    },
    {
     "name": "stdout",
     "output_type": "stream",
     "text": [
      "Model: \"sequential_14\"\n",
      "_________________________________________________________________\n",
      " Layer (type)                Output Shape              Param #   \n",
      "=================================================================\n",
      " dense_56 (Dense)            (None, 32)                25120     \n",
      "                                                                 \n",
      " dropout_42 (Dropout)        (None, 32)                0         \n",
      "                                                                 \n",
      " dense_57 (Dense)            (None, 32)                1056      \n",
      "                                                                 \n",
      " dropout_43 (Dropout)        (None, 32)                0         \n",
      "                                                                 \n",
      " dense_58 (Dense)            (None, 32)                1056      \n",
      "                                                                 \n",
      " dropout_44 (Dropout)        (None, 32)                0         \n",
      "                                                                 \n",
      " dense_59 (Dense)            (None, 10)                330       \n",
      "                                                                 \n",
      "=================================================================\n",
      "Total params: 27562 (107.66 KB)\n",
      "Trainable params: 27562 (107.66 KB)\n",
      "Non-trainable params: 0 (0.00 Byte)\n",
      "_________________________________________________________________\n",
      "Epoch 1/3\n",
      "   1/1875 [..............................] - ETA: 20:23 - loss: 2.4317 - accuracy: 0.0938WARNING:tensorflow:Callback method `on_train_batch_end` is slow compared to the batch time (batch time: 0.0015s vs `on_train_batch_end` time: 0.0035s). Check your callbacks.\n"
     ]
    },
    {
     "name": "stderr",
     "output_type": "stream",
     "text": [
      "WARNING:tensorflow:Callback method `on_train_batch_end` is slow compared to the batch time (batch time: 0.0015s vs `on_train_batch_end` time: 0.0035s). Check your callbacks.\n"
     ]
    },
    {
     "name": "stdout",
     "output_type": "stream",
     "text": [
      "1875/1875 [==============================] - 5s 2ms/step - loss: 0.5286 - accuracy: 0.8466 - val_loss: 0.2642 - val_accuracy: 0.9244\n",
      "Epoch 2/3\n",
      "1875/1875 [==============================] - 4s 2ms/step - loss: 0.3349 - accuracy: 0.9031 - val_loss: 0.2198 - val_accuracy: 0.9361\n",
      "Epoch 3/3\n",
      "1875/1875 [==============================] - 4s 2ms/step - loss: 0.2974 - accuracy: 0.9136 - val_loss: 0.2118 - val_accuracy: 0.9378\n",
      "1/1 [==============================] - 0s 53ms/step\n",
      "INFO:tensorflow:Assets written to: C:\\Users\\BLUESH~1\\AppData\\Local\\Temp\\tmpc9tk56bc\\model\\data\\model\\assets\n"
     ]
    },
    {
     "name": "stderr",
     "output_type": "stream",
     "text": [
      "INFO:tensorflow:Assets written to: C:\\Users\\BLUESH~1\\AppData\\Local\\Temp\\tmpc9tk56bc\\model\\data\\model\\assets\n"
     ]
    },
    {
     "name": "stdout",
     "output_type": "stream",
     "text": [
      "Modelo: 585c73f1b3144cd1acca214431efa6b9\n"
     ]
    },
    {
     "name": "stderr",
     "output_type": "stream",
     "text": [
      "2023/09/29 09:06:20 WARNING mlflow.utils.autologging_utils: You are using an unsupported version of tensorflow. If you encounter errors during autologging, try upgrading / downgrading tensorflow to a supported version, or try upgrading MLflow.\n"
     ]
    },
    {
     "name": "stdout",
     "output_type": "stream",
     "text": [
      "Model: \"sequential_15\"\n",
      "_________________________________________________________________\n",
      " Layer (type)                Output Shape              Param #   \n",
      "=================================================================\n",
      " dense_60 (Dense)            (None, 32)                25120     \n",
      "                                                                 \n",
      " dropout_45 (Dropout)        (None, 32)                0         \n",
      "                                                                 \n",
      " dense_61 (Dense)            (None, 32)                1056      \n",
      "                                                                 \n",
      " dropout_46 (Dropout)        (None, 32)                0         \n",
      "                                                                 \n",
      " dense_62 (Dense)            (None, 32)                1056      \n",
      "                                                                 \n",
      " dropout_47 (Dropout)        (None, 32)                0         \n",
      "                                                                 \n",
      " dense_63 (Dense)            (None, 10)                330       \n",
      "                                                                 \n",
      "=================================================================\n",
      "Total params: 27562 (107.66 KB)\n",
      "Trainable params: 27562 (107.66 KB)\n",
      "Non-trainable params: 0 (0.00 Byte)\n",
      "_________________________________________________________________\n",
      "Epoch 1/2\n",
      "   1/1875 [..............................] - ETA: 23:05 - loss: 2.4374 - accuracy: 0.1250WARNING:tensorflow:Callback method `on_train_batch_end` is slow compared to the batch time (batch time: 0.0011s vs `on_train_batch_end` time: 0.0024s). Check your callbacks.\n"
     ]
    },
    {
     "name": "stderr",
     "output_type": "stream",
     "text": [
      "WARNING:tensorflow:Callback method `on_train_batch_end` is slow compared to the batch time (batch time: 0.0011s vs `on_train_batch_end` time: 0.0024s). Check your callbacks.\n"
     ]
    },
    {
     "name": "stdout",
     "output_type": "stream",
     "text": [
      "1875/1875 [==============================] - 5s 2ms/step - loss: 0.6708 - accuracy: 0.7967 - val_loss: 0.2947 - val_accuracy: 0.9113\n",
      "Epoch 2/2\n",
      "1875/1875 [==============================] - 4s 2ms/step - loss: 0.4336 - accuracy: 0.8746 - val_loss: 0.2550 - val_accuracy: 0.9224\n",
      "1/1 [==============================] - 0s 56ms/step\n",
      "INFO:tensorflow:Assets written to: C:\\Users\\BLUESH~1\\AppData\\Local\\Temp\\tmpw3ye1cfh\\model\\data\\model\\assets\n"
     ]
    },
    {
     "name": "stderr",
     "output_type": "stream",
     "text": [
      "INFO:tensorflow:Assets written to: C:\\Users\\BLUESH~1\\AppData\\Local\\Temp\\tmpw3ye1cfh\\model\\data\\model\\assets\n"
     ]
    },
    {
     "name": "stdout",
     "output_type": "stream",
     "text": [
      "Modelo: 8a8ad697d1454f68b6b392752e28c395\n"
     ]
    },
    {
     "name": "stderr",
     "output_type": "stream",
     "text": [
      "2023/09/29 09:06:42 WARNING mlflow.utils.autologging_utils: You are using an unsupported version of tensorflow. If you encounter errors during autologging, try upgrading / downgrading tensorflow to a supported version, or try upgrading MLflow.\n"
     ]
    },
    {
     "name": "stdout",
     "output_type": "stream",
     "text": [
      "Model: \"sequential_16\"\n",
      "_________________________________________________________________\n",
      " Layer (type)                Output Shape              Param #   \n",
      "=================================================================\n",
      " dense_64 (Dense)            (None, 32)                25120     \n",
      "                                                                 \n",
      " dropout_48 (Dropout)        (None, 32)                0         \n",
      "                                                                 \n",
      " dense_65 (Dense)            (None, 32)                1056      \n",
      "                                                                 \n",
      " dropout_49 (Dropout)        (None, 32)                0         \n",
      "                                                                 \n",
      " dense_66 (Dense)            (None, 32)                1056      \n",
      "                                                                 \n",
      " dropout_50 (Dropout)        (None, 32)                0         \n",
      "                                                                 \n",
      " dense_67 (Dense)            (None, 10)                330       \n",
      "                                                                 \n",
      "=================================================================\n",
      "Total params: 27562 (107.66 KB)\n",
      "Trainable params: 27562 (107.66 KB)\n",
      "Non-trainable params: 0 (0.00 Byte)\n",
      "_________________________________________________________________\n",
      "Epoch 1/3\n",
      "   1/1875 [..............................] - ETA: 21:15 - loss: 2.3391 - accuracy: 0.1562WARNING:tensorflow:Callback method `on_train_batch_end` is slow compared to the batch time (batch time: 0.0015s vs `on_train_batch_end` time: 0.0019s). Check your callbacks.\n"
     ]
    },
    {
     "name": "stderr",
     "output_type": "stream",
     "text": [
      "WARNING:tensorflow:Callback method `on_train_batch_end` is slow compared to the batch time (batch time: 0.0015s vs `on_train_batch_end` time: 0.0019s). Check your callbacks.\n"
     ]
    },
    {
     "name": "stdout",
     "output_type": "stream",
     "text": [
      "1875/1875 [==============================] - 6s 3ms/step - loss: 0.6576 - accuracy: 0.7993 - val_loss: 0.2861 - val_accuracy: 0.9166\n",
      "Epoch 2/3\n",
      "1875/1875 [==============================] - 5s 3ms/step - loss: 0.4260 - accuracy: 0.8790 - val_loss: 0.2562 - val_accuracy: 0.9284\n",
      "Epoch 3/3\n",
      "1875/1875 [==============================] - 5s 3ms/step - loss: 0.3789 - accuracy: 0.8925 - val_loss: 0.2497 - val_accuracy: 0.9295\n",
      "1/1 [==============================] - 0s 64ms/step\n",
      "INFO:tensorflow:Assets written to: C:\\Users\\BLUESH~1\\AppData\\Local\\Temp\\tmpi_hc9ko_\\model\\data\\model\\assets\n"
     ]
    },
    {
     "name": "stderr",
     "output_type": "stream",
     "text": [
      "INFO:tensorflow:Assets written to: C:\\Users\\BLUESH~1\\AppData\\Local\\Temp\\tmpi_hc9ko_\\model\\data\\model\\assets\n"
     ]
    },
    {
     "name": "stdout",
     "output_type": "stream",
     "text": [
      "Modelo: d69194e85b9f44d983f4a5bb4c4034cb\n"
     ]
    },
    {
     "name": "stderr",
     "output_type": "stream",
     "text": [
      "2023/09/29 09:07:11 WARNING mlflow.utils.autologging_utils: You are using an unsupported version of tensorflow. If you encounter errors during autologging, try upgrading / downgrading tensorflow to a supported version, or try upgrading MLflow.\n"
     ]
    },
    {
     "name": "stdout",
     "output_type": "stream",
     "text": [
      "Model: \"sequential_17\"\n",
      "_________________________________________________________________\n",
      " Layer (type)                Output Shape              Param #   \n",
      "=================================================================\n",
      " dense_68 (Dense)            (None, 16)                12560     \n",
      "                                                                 \n",
      " dropout_51 (Dropout)        (None, 16)                0         \n",
      "                                                                 \n",
      " dense_69 (Dense)            (None, 16)                272       \n",
      "                                                                 \n",
      " dropout_52 (Dropout)        (None, 16)                0         \n",
      "                                                                 \n",
      " dense_70 (Dense)            (None, 16)                272       \n",
      "                                                                 \n",
      " dropout_53 (Dropout)        (None, 16)                0         \n",
      "                                                                 \n",
      " dense_71 (Dense)            (None, 16)                272       \n",
      "                                                                 \n",
      " dropout_54 (Dropout)        (None, 16)                0         \n",
      "                                                                 \n",
      " dense_72 (Dense)            (None, 10)                170       \n",
      "                                                                 \n",
      "=================================================================\n",
      "Total params: 13546 (52.91 KB)\n",
      "Trainable params: 13546 (52.91 KB)\n",
      "Non-trainable params: 0 (0.00 Byte)\n",
      "_________________________________________________________________\n",
      "Epoch 1/2\n",
      "   1/1875 [..............................] - ETA: 24:17 - loss: 2.3404 - accuracy: 0.1562WARNING:tensorflow:Callback method `on_train_batch_end` is slow compared to the batch time (batch time: 0.0019s vs `on_train_batch_end` time: 0.0035s). Check your callbacks.\n"
     ]
    },
    {
     "name": "stderr",
     "output_type": "stream",
     "text": [
      "WARNING:tensorflow:Callback method `on_train_batch_end` is slow compared to the batch time (batch time: 0.0019s vs `on_train_batch_end` time: 0.0035s). Check your callbacks.\n"
     ]
    },
    {
     "name": "stdout",
     "output_type": "stream",
     "text": [
      "1875/1875 [==============================] - 5s 2ms/step - loss: 1.2577 - accuracy: 0.5600 - val_loss: 0.5992 - val_accuracy: 0.8729\n",
      "Epoch 2/2\n",
      "1875/1875 [==============================] - 4s 2ms/step - loss: 0.8582 - accuracy: 0.7311 - val_loss: 0.4724 - val_accuracy: 0.8931\n",
      "1/1 [==============================] - 0s 57ms/step\n",
      "INFO:tensorflow:Assets written to: C:\\Users\\BLUESH~1\\AppData\\Local\\Temp\\tmp5981vg3_\\model\\data\\model\\assets\n"
     ]
    },
    {
     "name": "stderr",
     "output_type": "stream",
     "text": [
      "INFO:tensorflow:Assets written to: C:\\Users\\BLUESH~1\\AppData\\Local\\Temp\\tmp5981vg3_\\model\\data\\model\\assets\n"
     ]
    },
    {
     "name": "stdout",
     "output_type": "stream",
     "text": [
      "Modelo: 73f205bed48b4fecba39108443a0a8df\n"
     ]
    },
    {
     "name": "stderr",
     "output_type": "stream",
     "text": [
      "2023/09/29 09:07:31 WARNING mlflow.utils.autologging_utils: You are using an unsupported version of tensorflow. If you encounter errors during autologging, try upgrading / downgrading tensorflow to a supported version, or try upgrading MLflow.\n"
     ]
    },
    {
     "name": "stdout",
     "output_type": "stream",
     "text": [
      "Model: \"sequential_18\"\n",
      "_________________________________________________________________\n",
      " Layer (type)                Output Shape              Param #   \n",
      "=================================================================\n",
      " dense_73 (Dense)            (None, 16)                12560     \n",
      "                                                                 \n",
      " dropout_55 (Dropout)        (None, 16)                0         \n",
      "                                                                 \n",
      " dense_74 (Dense)            (None, 16)                272       \n",
      "                                                                 \n",
      " dropout_56 (Dropout)        (None, 16)                0         \n",
      "                                                                 \n",
      " dense_75 (Dense)            (None, 16)                272       \n",
      "                                                                 \n",
      " dropout_57 (Dropout)        (None, 16)                0         \n",
      "                                                                 \n",
      " dense_76 (Dense)            (None, 16)                272       \n",
      "                                                                 \n",
      " dropout_58 (Dropout)        (None, 16)                0         \n",
      "                                                                 \n",
      " dense_77 (Dense)            (None, 10)                170       \n",
      "                                                                 \n",
      "=================================================================\n",
      "Total params: 13546 (52.91 KB)\n",
      "Trainable params: 13546 (52.91 KB)\n",
      "Non-trainable params: 0 (0.00 Byte)\n",
      "_________________________________________________________________\n",
      "Epoch 1/3\n",
      "   1/1875 [..............................] - ETA: 30:34 - loss: 2.2981 - accuracy: 0.1562WARNING:tensorflow:Callback method `on_train_batch_end` is slow compared to the batch time (batch time: 0.0014s vs `on_train_batch_end` time: 0.0029s). Check your callbacks.\n"
     ]
    },
    {
     "name": "stderr",
     "output_type": "stream",
     "text": [
      "WARNING:tensorflow:Callback method `on_train_batch_end` is slow compared to the batch time (batch time: 0.0014s vs `on_train_batch_end` time: 0.0029s). Check your callbacks.\n"
     ]
    },
    {
     "name": "stdout",
     "output_type": "stream",
     "text": [
      "1875/1875 [==============================] - 6s 3ms/step - loss: 1.1822 - accuracy: 0.5723 - val_loss: 0.5575 - val_accuracy: 0.8496\n",
      "Epoch 2/3\n",
      "1875/1875 [==============================] - 5s 3ms/step - loss: 0.8286 - accuracy: 0.7268 - val_loss: 0.4279 - val_accuracy: 0.8985\n",
      "Epoch 3/3\n",
      "1875/1875 [==============================] - 4s 2ms/step - loss: 0.7504 - accuracy: 0.7640 - val_loss: 0.3953 - val_accuracy: 0.9054\n",
      "1/1 [==============================] - 0s 67ms/step\n",
      "INFO:tensorflow:Assets written to: C:\\Users\\BLUESH~1\\AppData\\Local\\Temp\\tmp4eo0hs5d\\model\\data\\model\\assets\n"
     ]
    },
    {
     "name": "stderr",
     "output_type": "stream",
     "text": [
      "INFO:tensorflow:Assets written to: C:\\Users\\BLUESH~1\\AppData\\Local\\Temp\\tmp4eo0hs5d\\model\\data\\model\\assets\n"
     ]
    },
    {
     "name": "stdout",
     "output_type": "stream",
     "text": [
      "Modelo: 591d1e403bca47348b03c9acbc74cb51\n"
     ]
    },
    {
     "name": "stderr",
     "output_type": "stream",
     "text": [
      "2023/09/29 09:07:57 WARNING mlflow.utils.autologging_utils: You are using an unsupported version of tensorflow. If you encounter errors during autologging, try upgrading / downgrading tensorflow to a supported version, or try upgrading MLflow.\n"
     ]
    },
    {
     "name": "stdout",
     "output_type": "stream",
     "text": [
      "Model: \"sequential_19\"\n",
      "_________________________________________________________________\n",
      " Layer (type)                Output Shape              Param #   \n",
      "=================================================================\n",
      " dense_78 (Dense)            (None, 16)                12560     \n",
      "                                                                 \n",
      " dropout_59 (Dropout)        (None, 16)                0         \n",
      "                                                                 \n",
      " dense_79 (Dense)            (None, 16)                272       \n",
      "                                                                 \n",
      " dropout_60 (Dropout)        (None, 16)                0         \n",
      "                                                                 \n",
      " dense_80 (Dense)            (None, 16)                272       \n",
      "                                                                 \n",
      " dropout_61 (Dropout)        (None, 16)                0         \n",
      "                                                                 \n",
      " dense_81 (Dense)            (None, 16)                272       \n",
      "                                                                 \n",
      " dropout_62 (Dropout)        (None, 16)                0         \n",
      "                                                                 \n",
      " dense_82 (Dense)            (None, 10)                170       \n",
      "                                                                 \n",
      "=================================================================\n",
      "Total params: 13546 (52.91 KB)\n",
      "Trainable params: 13546 (52.91 KB)\n",
      "Non-trainable params: 0 (0.00 Byte)\n",
      "_________________________________________________________________\n",
      "Epoch 1/2\n",
      "   1/1875 [..............................] - ETA: 27:51 - loss: 2.3217 - accuracy: 0.1250WARNING:tensorflow:Callback method `on_train_batch_end` is slow compared to the batch time (batch time: 0.0016s vs `on_train_batch_end` time: 0.0037s). Check your callbacks.\n"
     ]
    },
    {
     "name": "stderr",
     "output_type": "stream",
     "text": [
      "WARNING:tensorflow:Callback method `on_train_batch_end` is slow compared to the batch time (batch time: 0.0016s vs `on_train_batch_end` time: 0.0037s). Check your callbacks.\n"
     ]
    },
    {
     "name": "stdout",
     "output_type": "stream",
     "text": [
      "1875/1875 [==============================] - 5s 2ms/step - loss: 1.5223 - accuracy: 0.4422 - val_loss: 0.8069 - val_accuracy: 0.8111\n",
      "Epoch 2/2\n",
      "1875/1875 [==============================] - 5s 3ms/step - loss: 1.1561 - accuracy: 0.5998 - val_loss: 0.6555 - val_accuracy: 0.8501\n",
      "1/1 [==============================] - 0s 66ms/step\n",
      "INFO:tensorflow:Assets written to: C:\\Users\\BLUESH~1\\AppData\\Local\\Temp\\tmpz8_ugr1l\\model\\data\\model\\assets\n"
     ]
    },
    {
     "name": "stderr",
     "output_type": "stream",
     "text": [
      "INFO:tensorflow:Assets written to: C:\\Users\\BLUESH~1\\AppData\\Local\\Temp\\tmpz8_ugr1l\\model\\data\\model\\assets\n"
     ]
    },
    {
     "name": "stdout",
     "output_type": "stream",
     "text": [
      "Modelo: 330b7b3fd04945919f0418a216afa17d\n"
     ]
    },
    {
     "name": "stderr",
     "output_type": "stream",
     "text": [
      "2023/09/29 09:08:18 WARNING mlflow.utils.autologging_utils: You are using an unsupported version of tensorflow. If you encounter errors during autologging, try upgrading / downgrading tensorflow to a supported version, or try upgrading MLflow.\n"
     ]
    },
    {
     "name": "stdout",
     "output_type": "stream",
     "text": [
      "Model: \"sequential_20\"\n",
      "_________________________________________________________________\n",
      " Layer (type)                Output Shape              Param #   \n",
      "=================================================================\n",
      " dense_83 (Dense)            (None, 16)                12560     \n",
      "                                                                 \n",
      " dropout_63 (Dropout)        (None, 16)                0         \n",
      "                                                                 \n",
      " dense_84 (Dense)            (None, 16)                272       \n",
      "                                                                 \n",
      " dropout_64 (Dropout)        (None, 16)                0         \n",
      "                                                                 \n",
      " dense_85 (Dense)            (None, 16)                272       \n",
      "                                                                 \n",
      " dropout_65 (Dropout)        (None, 16)                0         \n",
      "                                                                 \n",
      " dense_86 (Dense)            (None, 16)                272       \n",
      "                                                                 \n",
      " dropout_66 (Dropout)        (None, 16)                0         \n",
      "                                                                 \n",
      " dense_87 (Dense)            (None, 10)                170       \n",
      "                                                                 \n",
      "=================================================================\n",
      "Total params: 13546 (52.91 KB)\n",
      "Trainable params: 13546 (52.91 KB)\n",
      "Non-trainable params: 0 (0.00 Byte)\n",
      "_________________________________________________________________\n",
      "Epoch 1/3\n",
      "   1/1875 [..............................] - ETA: 35:39 - loss: 2.3624 - accuracy: 0.0625WARNING:tensorflow:Callback method `on_train_batch_end` is slow compared to the batch time (batch time: 0.0018s vs `on_train_batch_end` time: 0.0034s). Check your callbacks.\n"
     ]
    },
    {
     "name": "stderr",
     "output_type": "stream",
     "text": [
      "WARNING:tensorflow:Callback method `on_train_batch_end` is slow compared to the batch time (batch time: 0.0018s vs `on_train_batch_end` time: 0.0034s). Check your callbacks.\n"
     ]
    },
    {
     "name": "stdout",
     "output_type": "stream",
     "text": [
      "1875/1875 [==============================] - 6s 2ms/step - loss: 1.5934 - accuracy: 0.4149 - val_loss: 0.9278 - val_accuracy: 0.7049\n",
      "Epoch 2/3\n",
      "1875/1875 [==============================] - 4s 2ms/step - loss: 1.1832 - accuracy: 0.5757 - val_loss: 0.7226 - val_accuracy: 0.8243\n",
      "Epoch 3/3\n",
      "1875/1875 [==============================] - 4s 2ms/step - loss: 1.0807 - accuracy: 0.6295 - val_loss: 0.6325 - val_accuracy: 0.8432\n",
      "1/1 [==============================] - 0s 64ms/step\n",
      "INFO:tensorflow:Assets written to: C:\\Users\\BLUESH~1\\AppData\\Local\\Temp\\tmpzq2ujx94\\model\\data\\model\\assets\n"
     ]
    },
    {
     "name": "stderr",
     "output_type": "stream",
     "text": [
      "INFO:tensorflow:Assets written to: C:\\Users\\BLUESH~1\\AppData\\Local\\Temp\\tmpzq2ujx94\\model\\data\\model\\assets\n"
     ]
    },
    {
     "name": "stdout",
     "output_type": "stream",
     "text": [
      "Modelo: 82f049d7d2b543a0943ee58a5905980d\n"
     ]
    },
    {
     "name": "stderr",
     "output_type": "stream",
     "text": [
      "2023/09/29 09:08:44 WARNING mlflow.utils.autologging_utils: You are using an unsupported version of tensorflow. If you encounter errors during autologging, try upgrading / downgrading tensorflow to a supported version, or try upgrading MLflow.\n"
     ]
    },
    {
     "name": "stdout",
     "output_type": "stream",
     "text": [
      "Model: \"sequential_21\"\n",
      "_________________________________________________________________\n",
      " Layer (type)                Output Shape              Param #   \n",
      "=================================================================\n",
      " dense_88 (Dense)            (None, 16)                12560     \n",
      "                                                                 \n",
      " dropout_67 (Dropout)        (None, 16)                0         \n",
      "                                                                 \n",
      " dense_89 (Dense)            (None, 16)                272       \n",
      "                                                                 \n",
      " dropout_68 (Dropout)        (None, 16)                0         \n",
      "                                                                 \n",
      " dense_90 (Dense)            (None, 16)                272       \n",
      "                                                                 \n",
      " dropout_69 (Dropout)        (None, 16)                0         \n",
      "                                                                 \n",
      " dense_91 (Dense)            (None, 16)                272       \n",
      "                                                                 \n",
      " dropout_70 (Dropout)        (None, 16)                0         \n",
      "                                                                 \n",
      " dense_92 (Dense)            (None, 10)                170       \n",
      "                                                                 \n",
      "=================================================================\n",
      "Total params: 13546 (52.91 KB)\n",
      "Trainable params: 13546 (52.91 KB)\n",
      "Non-trainable params: 0 (0.00 Byte)\n",
      "_________________________________________________________________\n",
      "Epoch 1/2\n",
      "   1/1875 [..............................] - ETA: 28:05 - loss: 2.4649 - accuracy: 0.0312WARNING:tensorflow:Callback method `on_train_batch_end` is slow compared to the batch time (batch time: 0.0007s vs `on_train_batch_end` time: 0.0043s). Check your callbacks.\n"
     ]
    },
    {
     "name": "stderr",
     "output_type": "stream",
     "text": [
      "WARNING:tensorflow:Callback method `on_train_batch_end` is slow compared to the batch time (batch time: 0.0007s vs `on_train_batch_end` time: 0.0043s). Check your callbacks.\n"
     ]
    },
    {
     "name": "stdout",
     "output_type": "stream",
     "text": [
      "1875/1875 [==============================] - 6s 3ms/step - loss: 0.9239 - accuracy: 0.7127 - val_loss: 0.3997 - val_accuracy: 0.8838\n",
      "Epoch 2/2\n",
      "1875/1875 [==============================] - 5s 2ms/step - loss: 0.6016 - accuracy: 0.8257 - val_loss: 0.3508 - val_accuracy: 0.9008\n",
      "1/1 [==============================] - 0s 67ms/step\n",
      "INFO:tensorflow:Assets written to: C:\\Users\\BLUESH~1\\AppData\\Local\\Temp\\tmpdoar3cws\\model\\data\\model\\assets\n"
     ]
    },
    {
     "name": "stderr",
     "output_type": "stream",
     "text": [
      "INFO:tensorflow:Assets written to: C:\\Users\\BLUESH~1\\AppData\\Local\\Temp\\tmpdoar3cws\\model\\data\\model\\assets\n"
     ]
    },
    {
     "name": "stdout",
     "output_type": "stream",
     "text": [
      "Modelo: 94c03996ff9a4b08a159eb072c33882b\n"
     ]
    },
    {
     "name": "stderr",
     "output_type": "stream",
     "text": [
      "2023/09/29 09:09:06 WARNING mlflow.utils.autologging_utils: You are using an unsupported version of tensorflow. If you encounter errors during autologging, try upgrading / downgrading tensorflow to a supported version, or try upgrading MLflow.\n"
     ]
    },
    {
     "name": "stdout",
     "output_type": "stream",
     "text": [
      "Model: \"sequential_22\"\n",
      "_________________________________________________________________\n",
      " Layer (type)                Output Shape              Param #   \n",
      "=================================================================\n",
      " dense_93 (Dense)            (None, 16)                12560     \n",
      "                                                                 \n",
      " dropout_71 (Dropout)        (None, 16)                0         \n",
      "                                                                 \n",
      " dense_94 (Dense)            (None, 16)                272       \n",
      "                                                                 \n",
      " dropout_72 (Dropout)        (None, 16)                0         \n",
      "                                                                 \n",
      " dense_95 (Dense)            (None, 16)                272       \n",
      "                                                                 \n",
      " dropout_73 (Dropout)        (None, 16)                0         \n",
      "                                                                 \n",
      " dense_96 (Dense)            (None, 16)                272       \n",
      "                                                                 \n",
      " dropout_74 (Dropout)        (None, 16)                0         \n",
      "                                                                 \n",
      " dense_97 (Dense)            (None, 10)                170       \n",
      "                                                                 \n",
      "=================================================================\n",
      "Total params: 13546 (52.91 KB)\n",
      "Trainable params: 13546 (52.91 KB)\n",
      "Non-trainable params: 0 (0.00 Byte)\n",
      "_________________________________________________________________\n",
      "Epoch 1/3\n",
      "   1/1875 [..............................] - ETA: 35:17 - loss: 2.3952 - accuracy: 0.0312WARNING:tensorflow:Callback method `on_train_batch_end` is slow compared to the batch time (batch time: 0.0021s vs `on_train_batch_end` time: 0.0033s). Check your callbacks.\n"
     ]
    },
    {
     "name": "stderr",
     "output_type": "stream",
     "text": [
      "WARNING:tensorflow:Callback method `on_train_batch_end` is slow compared to the batch time (batch time: 0.0021s vs `on_train_batch_end` time: 0.0033s). Check your callbacks.\n"
     ]
    },
    {
     "name": "stdout",
     "output_type": "stream",
     "text": [
      "1875/1875 [==============================] - 6s 3ms/step - loss: 0.9072 - accuracy: 0.7139 - val_loss: 0.4061 - val_accuracy: 0.8873\n",
      "Epoch 2/3\n",
      "1875/1875 [==============================] - 5s 3ms/step - loss: 0.6082 - accuracy: 0.8223 - val_loss: 0.3386 - val_accuracy: 0.9086\n",
      "Epoch 3/3\n",
      "1875/1875 [==============================] - 5s 3ms/step - loss: 0.5364 - accuracy: 0.8476 - val_loss: 0.3159 - val_accuracy: 0.9147\n",
      "1/1 [==============================] - 0s 89ms/step\n",
      "INFO:tensorflow:Assets written to: C:\\Users\\BLUESH~1\\AppData\\Local\\Temp\\tmpeq16k6cu\\model\\data\\model\\assets\n"
     ]
    },
    {
     "name": "stderr",
     "output_type": "stream",
     "text": [
      "INFO:tensorflow:Assets written to: C:\\Users\\BLUESH~1\\AppData\\Local\\Temp\\tmpeq16k6cu\\model\\data\\model\\assets\n"
     ]
    },
    {
     "name": "stdout",
     "output_type": "stream",
     "text": [
      "Modelo: a8551af38fcc42a9a9e5a667f57d3e97\n"
     ]
    },
    {
     "name": "stderr",
     "output_type": "stream",
     "text": [
      "2023/09/29 09:09:34 WARNING mlflow.utils.autologging_utils: You are using an unsupported version of tensorflow. If you encounter errors during autologging, try upgrading / downgrading tensorflow to a supported version, or try upgrading MLflow.\n"
     ]
    },
    {
     "name": "stdout",
     "output_type": "stream",
     "text": [
      "Model: \"sequential_23\"\n",
      "_________________________________________________________________\n",
      " Layer (type)                Output Shape              Param #   \n",
      "=================================================================\n",
      " dense_98 (Dense)            (None, 16)                12560     \n",
      "                                                                 \n",
      " dropout_75 (Dropout)        (None, 16)                0         \n",
      "                                                                 \n",
      " dense_99 (Dense)            (None, 16)                272       \n",
      "                                                                 \n",
      " dropout_76 (Dropout)        (None, 16)                0         \n",
      "                                                                 \n",
      " dense_100 (Dense)           (None, 16)                272       \n",
      "                                                                 \n",
      " dropout_77 (Dropout)        (None, 16)                0         \n",
      "                                                                 \n",
      " dense_101 (Dense)           (None, 16)                272       \n",
      "                                                                 \n",
      " dropout_78 (Dropout)        (None, 16)                0         \n",
      "                                                                 \n",
      " dense_102 (Dense)           (None, 10)                170       \n",
      "                                                                 \n",
      "=================================================================\n",
      "Total params: 13546 (52.91 KB)\n",
      "Trainable params: 13546 (52.91 KB)\n",
      "Non-trainable params: 0 (0.00 Byte)\n",
      "_________________________________________________________________\n",
      "Epoch 1/2\n",
      "   1/1875 [..............................] - ETA: 26:44 - loss: 2.3244 - accuracy: 0.0938WARNING:tensorflow:Callback method `on_train_batch_end` is slow compared to the batch time (batch time: 0.0016s vs `on_train_batch_end` time: 0.0027s). Check your callbacks.\n"
     ]
    },
    {
     "name": "stderr",
     "output_type": "stream",
     "text": [
      "WARNING:tensorflow:Callback method `on_train_batch_end` is slow compared to the batch time (batch time: 0.0016s vs `on_train_batch_end` time: 0.0027s). Check your callbacks.\n"
     ]
    },
    {
     "name": "stdout",
     "output_type": "stream",
     "text": [
      "1875/1875 [==============================] - 5s 2ms/step - loss: 1.1858 - accuracy: 0.5974 - val_loss: 0.5615 - val_accuracy: 0.8400\n",
      "Epoch 2/2\n",
      "1875/1875 [==============================] - 5s 3ms/step - loss: 0.8391 - accuracy: 0.7378 - val_loss: 0.4781 - val_accuracy: 0.8632\n",
      "1/1 [==============================] - 0s 69ms/step\n",
      "INFO:tensorflow:Assets written to: C:\\Users\\BLUESH~1\\AppData\\Local\\Temp\\tmpap8f6szb\\model\\data\\model\\assets\n"
     ]
    },
    {
     "name": "stderr",
     "output_type": "stream",
     "text": [
      "INFO:tensorflow:Assets written to: C:\\Users\\BLUESH~1\\AppData\\Local\\Temp\\tmpap8f6szb\\model\\data\\model\\assets\n"
     ]
    },
    {
     "name": "stdout",
     "output_type": "stream",
     "text": [
      "Modelo: eaf78103801b4a309ad74d74147ac176\n"
     ]
    },
    {
     "name": "stderr",
     "output_type": "stream",
     "text": [
      "2023/09/29 09:09:56 WARNING mlflow.utils.autologging_utils: You are using an unsupported version of tensorflow. If you encounter errors during autologging, try upgrading / downgrading tensorflow to a supported version, or try upgrading MLflow.\n"
     ]
    },
    {
     "name": "stdout",
     "output_type": "stream",
     "text": [
      "Model: \"sequential_24\"\n",
      "_________________________________________________________________\n",
      " Layer (type)                Output Shape              Param #   \n",
      "=================================================================\n",
      " dense_103 (Dense)           (None, 16)                12560     \n",
      "                                                                 \n",
      " dropout_79 (Dropout)        (None, 16)                0         \n",
      "                                                                 \n",
      " dense_104 (Dense)           (None, 16)                272       \n",
      "                                                                 \n",
      " dropout_80 (Dropout)        (None, 16)                0         \n",
      "                                                                 \n",
      " dense_105 (Dense)           (None, 16)                272       \n",
      "                                                                 \n",
      " dropout_81 (Dropout)        (None, 16)                0         \n",
      "                                                                 \n",
      " dense_106 (Dense)           (None, 16)                272       \n",
      "                                                                 \n",
      " dropout_82 (Dropout)        (None, 16)                0         \n",
      "                                                                 \n",
      " dense_107 (Dense)           (None, 10)                170       \n",
      "                                                                 \n",
      "=================================================================\n",
      "Total params: 13546 (52.91 KB)\n",
      "Trainable params: 13546 (52.91 KB)\n",
      "Non-trainable params: 0 (0.00 Byte)\n",
      "_________________________________________________________________\n",
      "Epoch 1/3\n",
      "   1/1875 [..............................] - ETA: 28:04 - loss: 2.5950 - accuracy: 0.0000e+00WARNING:tensorflow:Callback method `on_train_batch_end` is slow compared to the batch time (batch time: 0.0016s vs `on_train_batch_end` time: 0.0031s). Check your callbacks.\n"
     ]
    },
    {
     "name": "stderr",
     "output_type": "stream",
     "text": [
      "WARNING:tensorflow:Callback method `on_train_batch_end` is slow compared to the batch time (batch time: 0.0016s vs `on_train_batch_end` time: 0.0031s). Check your callbacks.\n"
     ]
    },
    {
     "name": "stdout",
     "output_type": "stream",
     "text": [
      "1875/1875 [==============================] - 6s 3ms/step - loss: 1.2228 - accuracy: 0.5823 - val_loss: 0.6166 - val_accuracy: 0.8230\n",
      "Epoch 2/3\n",
      "1875/1875 [==============================] - 6s 3ms/step - loss: 0.8831 - accuracy: 0.7223 - val_loss: 0.5106 - val_accuracy: 0.8613\n",
      "Epoch 3/3\n",
      "1875/1875 [==============================] - 5s 3ms/step - loss: 0.8034 - accuracy: 0.7612 - val_loss: 0.4856 - val_accuracy: 0.8664\n",
      "1/1 [==============================] - 0s 63ms/step\n",
      "INFO:tensorflow:Assets written to: C:\\Users\\BLUESH~1\\AppData\\Local\\Temp\\tmpqf2ga2qh\\model\\data\\model\\assets\n"
     ]
    },
    {
     "name": "stderr",
     "output_type": "stream",
     "text": [
      "INFO:tensorflow:Assets written to: C:\\Users\\BLUESH~1\\AppData\\Local\\Temp\\tmpqf2ga2qh\\model\\data\\model\\assets\n"
     ]
    },
    {
     "name": "stdout",
     "output_type": "stream",
     "text": [
      "Modelo: f1820360f5a946a3b09a1342efc2c72d\n"
     ]
    },
    {
     "name": "stderr",
     "output_type": "stream",
     "text": [
      "2023/09/29 09:10:24 WARNING mlflow.utils.autologging_utils: You are using an unsupported version of tensorflow. If you encounter errors during autologging, try upgrading / downgrading tensorflow to a supported version, or try upgrading MLflow.\n"
     ]
    },
    {
     "name": "stdout",
     "output_type": "stream",
     "text": [
      "Model: \"sequential_25\"\n",
      "_________________________________________________________________\n",
      " Layer (type)                Output Shape              Param #   \n",
      "=================================================================\n",
      " dense_108 (Dense)           (None, 32)                25120     \n",
      "                                                                 \n",
      " dropout_83 (Dropout)        (None, 32)                0         \n",
      "                                                                 \n",
      " dense_109 (Dense)           (None, 32)                1056      \n",
      "                                                                 \n",
      " dropout_84 (Dropout)        (None, 32)                0         \n",
      "                                                                 \n",
      " dense_110 (Dense)           (None, 32)                1056      \n",
      "                                                                 \n",
      " dropout_85 (Dropout)        (None, 32)                0         \n",
      "                                                                 \n",
      " dense_111 (Dense)           (None, 32)                1056      \n",
      "                                                                 \n",
      " dropout_86 (Dropout)        (None, 32)                0         \n",
      "                                                                 \n",
      " dense_112 (Dense)           (None, 10)                330       \n",
      "                                                                 \n",
      "=================================================================\n",
      "Total params: 28618 (111.79 KB)\n",
      "Trainable params: 28618 (111.79 KB)\n",
      "Non-trainable params: 0 (0.00 Byte)\n",
      "_________________________________________________________________\n",
      "Epoch 1/2\n",
      "   1/1875 [..............................] - ETA: 27:04 - loss: 2.3053 - accuracy: 0.1250WARNING:tensorflow:Callback method `on_train_batch_end` is slow compared to the batch time (batch time: 0.0021s vs `on_train_batch_end` time: 0.0027s). Check your callbacks.\n"
     ]
    },
    {
     "name": "stderr",
     "output_type": "stream",
     "text": [
      "WARNING:tensorflow:Callback method `on_train_batch_end` is slow compared to the batch time (batch time: 0.0021s vs `on_train_batch_end` time: 0.0027s). Check your callbacks.\n"
     ]
    },
    {
     "name": "stdout",
     "output_type": "stream",
     "text": [
      "1875/1875 [==============================] - 7s 3ms/step - loss: 0.7772 - accuracy: 0.7467 - val_loss: 0.2795 - val_accuracy: 0.9201\n",
      "Epoch 2/2\n",
      "1875/1875 [==============================] - 5s 3ms/step - loss: 0.4280 - accuracy: 0.8818 - val_loss: 0.2245 - val_accuracy: 0.9367\n",
      "1/1 [==============================] - 0s 66ms/step\n",
      "INFO:tensorflow:Assets written to: C:\\Users\\BLUESH~1\\AppData\\Local\\Temp\\tmp706kjmp8\\model\\data\\model\\assets\n"
     ]
    },
    {
     "name": "stderr",
     "output_type": "stream",
     "text": [
      "INFO:tensorflow:Assets written to: C:\\Users\\BLUESH~1\\AppData\\Local\\Temp\\tmp706kjmp8\\model\\data\\model\\assets\n"
     ]
    },
    {
     "name": "stdout",
     "output_type": "stream",
     "text": [
      "Modelo: b97ece6fdcaa428fb351e2f2577e8712\n"
     ]
    },
    {
     "name": "stderr",
     "output_type": "stream",
     "text": [
      "2023/09/29 09:10:45 WARNING mlflow.utils.autologging_utils: You are using an unsupported version of tensorflow. If you encounter errors during autologging, try upgrading / downgrading tensorflow to a supported version, or try upgrading MLflow.\n"
     ]
    },
    {
     "name": "stdout",
     "output_type": "stream",
     "text": [
      "Model: \"sequential_26\"\n",
      "_________________________________________________________________\n",
      " Layer (type)                Output Shape              Param #   \n",
      "=================================================================\n",
      " dense_113 (Dense)           (None, 32)                25120     \n",
      "                                                                 \n",
      " dropout_87 (Dropout)        (None, 32)                0         \n",
      "                                                                 \n",
      " dense_114 (Dense)           (None, 32)                1056      \n",
      "                                                                 \n",
      " dropout_88 (Dropout)        (None, 32)                0         \n",
      "                                                                 \n",
      " dense_115 (Dense)           (None, 32)                1056      \n",
      "                                                                 \n",
      " dropout_89 (Dropout)        (None, 32)                0         \n",
      "                                                                 \n",
      " dense_116 (Dense)           (None, 32)                1056      \n",
      "                                                                 \n",
      " dropout_90 (Dropout)        (None, 32)                0         \n",
      "                                                                 \n",
      " dense_117 (Dense)           (None, 10)                330       \n",
      "                                                                 \n",
      "=================================================================\n",
      "Total params: 28618 (111.79 KB)\n",
      "Trainable params: 28618 (111.79 KB)\n",
      "Non-trainable params: 0 (0.00 Byte)\n",
      "_________________________________________________________________\n",
      "Epoch 1/3\n",
      "   1/1875 [..............................] - ETA: 26:42 - loss: 2.3487 - accuracy: 0.0312WARNING:tensorflow:Callback method `on_train_batch_end` is slow compared to the batch time (batch time: 0.0017s vs `on_train_batch_end` time: 0.0023s). Check your callbacks.\n"
     ]
    },
    {
     "name": "stderr",
     "output_type": "stream",
     "text": [
      "WARNING:tensorflow:Callback method `on_train_batch_end` is slow compared to the batch time (batch time: 0.0017s vs `on_train_batch_end` time: 0.0023s). Check your callbacks.\n"
     ]
    },
    {
     "name": "stdout",
     "output_type": "stream",
     "text": [
      "1875/1875 [==============================] - 6s 2ms/step - loss: 0.7666 - accuracy: 0.7536 - val_loss: 0.2608 - val_accuracy: 0.9259\n",
      "Epoch 2/3\n",
      "1875/1875 [==============================] - 5s 3ms/step - loss: 0.4192 - accuracy: 0.8855 - val_loss: 0.2223 - val_accuracy: 0.9385\n",
      "Epoch 3/3\n",
      "1875/1875 [==============================] - 5s 3ms/step - loss: 0.3686 - accuracy: 0.8993 - val_loss: 0.1957 - val_accuracy: 0.9438\n",
      "1/1 [==============================] - 0s 67ms/step\n",
      "INFO:tensorflow:Assets written to: C:\\Users\\BLUESH~1\\AppData\\Local\\Temp\\tmp79p1ewx4\\model\\data\\model\\assets\n"
     ]
    },
    {
     "name": "stderr",
     "output_type": "stream",
     "text": [
      "INFO:tensorflow:Assets written to: C:\\Users\\BLUESH~1\\AppData\\Local\\Temp\\tmp79p1ewx4\\model\\data\\model\\assets\n"
     ]
    },
    {
     "name": "stdout",
     "output_type": "stream",
     "text": [
      "Modelo: 8fcb40d25ee24d1081bf11558e66e963\n"
     ]
    },
    {
     "name": "stderr",
     "output_type": "stream",
     "text": [
      "2023/09/29 09:11:13 WARNING mlflow.utils.autologging_utils: You are using an unsupported version of tensorflow. If you encounter errors during autologging, try upgrading / downgrading tensorflow to a supported version, or try upgrading MLflow.\n"
     ]
    },
    {
     "name": "stdout",
     "output_type": "stream",
     "text": [
      "Model: \"sequential_27\"\n",
      "_________________________________________________________________\n",
      " Layer (type)                Output Shape              Param #   \n",
      "=================================================================\n",
      " dense_118 (Dense)           (None, 32)                25120     \n",
      "                                                                 \n",
      " dropout_91 (Dropout)        (None, 32)                0         \n",
      "                                                                 \n",
      " dense_119 (Dense)           (None, 32)                1056      \n",
      "                                                                 \n",
      " dropout_92 (Dropout)        (None, 32)                0         \n",
      "                                                                 \n",
      " dense_120 (Dense)           (None, 32)                1056      \n",
      "                                                                 \n",
      " dropout_93 (Dropout)        (None, 32)                0         \n",
      "                                                                 \n",
      " dense_121 (Dense)           (None, 32)                1056      \n",
      "                                                                 \n",
      " dropout_94 (Dropout)        (None, 32)                0         \n",
      "                                                                 \n",
      " dense_122 (Dense)           (None, 10)                330       \n",
      "                                                                 \n",
      "=================================================================\n",
      "Total params: 28618 (111.79 KB)\n",
      "Trainable params: 28618 (111.79 KB)\n",
      "Non-trainable params: 0 (0.00 Byte)\n",
      "_________________________________________________________________\n",
      "Epoch 1/2\n",
      "   1/1875 [..............................] - ETA: 28:43 - loss: 2.3629 - accuracy: 0.0625WARNING:tensorflow:Callback method `on_train_batch_end` is slow compared to the batch time (batch time: 0.0021s vs `on_train_batch_end` time: 0.0032s). Check your callbacks.\n"
     ]
    },
    {
     "name": "stderr",
     "output_type": "stream",
     "text": [
      "WARNING:tensorflow:Callback method `on_train_batch_end` is slow compared to the batch time (batch time: 0.0021s vs `on_train_batch_end` time: 0.0032s). Check your callbacks.\n"
     ]
    },
    {
     "name": "stdout",
     "output_type": "stream",
     "text": [
      "1875/1875 [==============================] - 6s 3ms/step - loss: 1.0188 - accuracy: 0.6523 - val_loss: 0.3758 - val_accuracy: 0.9030\n",
      "Epoch 2/2\n",
      "1875/1875 [==============================] - 5s 3ms/step - loss: 0.6014 - accuracy: 0.8260 - val_loss: 0.2971 - val_accuracy: 0.9234\n",
      "1/1 [==============================] - 0s 61ms/step\n",
      "INFO:tensorflow:Assets written to: C:\\Users\\BLUESH~1\\AppData\\Local\\Temp\\tmplph0qyn4\\model\\data\\model\\assets\n"
     ]
    },
    {
     "name": "stderr",
     "output_type": "stream",
     "text": [
      "INFO:tensorflow:Assets written to: C:\\Users\\BLUESH~1\\AppData\\Local\\Temp\\tmplph0qyn4\\model\\data\\model\\assets\n"
     ]
    },
    {
     "name": "stdout",
     "output_type": "stream",
     "text": [
      "Modelo: 4753eccaba454238ba3469dfea0a9c25\n"
     ]
    },
    {
     "name": "stderr",
     "output_type": "stream",
     "text": [
      "2023/09/29 09:11:37 WARNING mlflow.utils.autologging_utils: You are using an unsupported version of tensorflow. If you encounter errors during autologging, try upgrading / downgrading tensorflow to a supported version, or try upgrading MLflow.\n"
     ]
    },
    {
     "name": "stdout",
     "output_type": "stream",
     "text": [
      "Model: \"sequential_28\"\n",
      "_________________________________________________________________\n",
      " Layer (type)                Output Shape              Param #   \n",
      "=================================================================\n",
      " dense_123 (Dense)           (None, 32)                25120     \n",
      "                                                                 \n",
      " dropout_95 (Dropout)        (None, 32)                0         \n",
      "                                                                 \n",
      " dense_124 (Dense)           (None, 32)                1056      \n",
      "                                                                 \n",
      " dropout_96 (Dropout)        (None, 32)                0         \n",
      "                                                                 \n",
      " dense_125 (Dense)           (None, 32)                1056      \n",
      "                                                                 \n",
      " dropout_97 (Dropout)        (None, 32)                0         \n",
      "                                                                 \n",
      " dense_126 (Dense)           (None, 32)                1056      \n",
      "                                                                 \n",
      " dropout_98 (Dropout)        (None, 32)                0         \n",
      "                                                                 \n",
      " dense_127 (Dense)           (None, 10)                330       \n",
      "                                                                 \n",
      "=================================================================\n",
      "Total params: 28618 (111.79 KB)\n",
      "Trainable params: 28618 (111.79 KB)\n",
      "Non-trainable params: 0 (0.00 Byte)\n",
      "_________________________________________________________________\n",
      "Epoch 1/3\n",
      "   1/1875 [..............................] - ETA: 24:19 - loss: 2.3166 - accuracy: 0.0938WARNING:tensorflow:Callback method `on_train_batch_end` is slow compared to the batch time (batch time: 0.0018s vs `on_train_batch_end` time: 0.0023s). Check your callbacks.\n"
     ]
    },
    {
     "name": "stderr",
     "output_type": "stream",
     "text": [
      "WARNING:tensorflow:Callback method `on_train_batch_end` is slow compared to the batch time (batch time: 0.0018s vs `on_train_batch_end` time: 0.0023s). Check your callbacks.\n"
     ]
    },
    {
     "name": "stdout",
     "output_type": "stream",
     "text": [
      "1875/1875 [==============================] - 5s 2ms/step - loss: 0.9660 - accuracy: 0.6830 - val_loss: 0.3523 - val_accuracy: 0.9139\n",
      "Epoch 2/3\n",
      "1875/1875 [==============================] - 5s 3ms/step - loss: 0.5730 - accuracy: 0.8443 - val_loss: 0.3052 - val_accuracy: 0.9240\n",
      "Epoch 3/3\n",
      "1875/1875 [==============================] - 6s 3ms/step - loss: 0.5048 - accuracy: 0.8687 - val_loss: 0.2740 - val_accuracy: 0.9290\n",
      "1/1 [==============================] - 0s 69ms/step\n",
      "INFO:tensorflow:Assets written to: C:\\Users\\BLUESH~1\\AppData\\Local\\Temp\\tmplc5lrjwp\\model\\data\\model\\assets\n"
     ]
    },
    {
     "name": "stderr",
     "output_type": "stream",
     "text": [
      "INFO:tensorflow:Assets written to: C:\\Users\\BLUESH~1\\AppData\\Local\\Temp\\tmplc5lrjwp\\model\\data\\model\\assets\n"
     ]
    },
    {
     "name": "stdout",
     "output_type": "stream",
     "text": [
      "Modelo: bf670c4d001c461ebd8864bc7edfcf96\n"
     ]
    },
    {
     "name": "stderr",
     "output_type": "stream",
     "text": [
      "2023/09/29 09:12:06 WARNING mlflow.utils.autologging_utils: You are using an unsupported version of tensorflow. If you encounter errors during autologging, try upgrading / downgrading tensorflow to a supported version, or try upgrading MLflow.\n"
     ]
    },
    {
     "name": "stdout",
     "output_type": "stream",
     "text": [
      "Model: \"sequential_29\"\n",
      "_________________________________________________________________\n",
      " Layer (type)                Output Shape              Param #   \n",
      "=================================================================\n",
      " dense_128 (Dense)           (None, 32)                25120     \n",
      "                                                                 \n",
      " dropout_99 (Dropout)        (None, 32)                0         \n",
      "                                                                 \n",
      " dense_129 (Dense)           (None, 32)                1056      \n",
      "                                                                 \n",
      " dropout_100 (Dropout)       (None, 32)                0         \n",
      "                                                                 \n",
      " dense_130 (Dense)           (None, 32)                1056      \n",
      "                                                                 \n",
      " dropout_101 (Dropout)       (None, 32)                0         \n",
      "                                                                 \n",
      " dense_131 (Dense)           (None, 32)                1056      \n",
      "                                                                 \n",
      " dropout_102 (Dropout)       (None, 32)                0         \n",
      "                                                                 \n",
      " dense_132 (Dense)           (None, 10)                330       \n",
      "                                                                 \n",
      "=================================================================\n",
      "Total params: 28618 (111.79 KB)\n",
      "Trainable params: 28618 (111.79 KB)\n",
      "Non-trainable params: 0 (0.00 Byte)\n",
      "_________________________________________________________________\n",
      "Epoch 1/2\n",
      "   1/1875 [..............................] - ETA: 29:34 - loss: 2.4681 - accuracy: 0.0312WARNING:tensorflow:Callback method `on_train_batch_end` is slow compared to the batch time (batch time: 0.0022s vs `on_train_batch_end` time: 0.0023s). Check your callbacks.\n"
     ]
    },
    {
     "name": "stderr",
     "output_type": "stream",
     "text": [
      "WARNING:tensorflow:Callback method `on_train_batch_end` is slow compared to the batch time (batch time: 0.0022s vs `on_train_batch_end` time: 0.0023s). Check your callbacks.\n"
     ]
    },
    {
     "name": "stdout",
     "output_type": "stream",
     "text": [
      "1875/1875 [==============================] - 7s 3ms/step - loss: 0.5944 - accuracy: 0.8243 - val_loss: 0.2929 - val_accuracy: 0.9160\n",
      "Epoch 2/2\n",
      "1875/1875 [==============================] - 5s 3ms/step - loss: 0.3784 - accuracy: 0.8933 - val_loss: 0.2571 - val_accuracy: 0.9308\n",
      "1/1 [==============================] - 0s 66ms/step\n",
      "INFO:tensorflow:Assets written to: C:\\Users\\BLUESH~1\\AppData\\Local\\Temp\\tmpab7j8yyy\\model\\data\\model\\assets\n"
     ]
    },
    {
     "name": "stderr",
     "output_type": "stream",
     "text": [
      "INFO:tensorflow:Assets written to: C:\\Users\\BLUESH~1\\AppData\\Local\\Temp\\tmpab7j8yyy\\model\\data\\model\\assets\n"
     ]
    },
    {
     "name": "stdout",
     "output_type": "stream",
     "text": [
      "Modelo: 172ade2cbdce46b1a0b965e204552d53\n"
     ]
    },
    {
     "name": "stderr",
     "output_type": "stream",
     "text": [
      "2023/09/29 09:12:30 WARNING mlflow.utils.autologging_utils: You are using an unsupported version of tensorflow. If you encounter errors during autologging, try upgrading / downgrading tensorflow to a supported version, or try upgrading MLflow.\n"
     ]
    },
    {
     "name": "stdout",
     "output_type": "stream",
     "text": [
      "Model: \"sequential_30\"\n",
      "_________________________________________________________________\n",
      " Layer (type)                Output Shape              Param #   \n",
      "=================================================================\n",
      " dense_133 (Dense)           (None, 32)                25120     \n",
      "                                                                 \n",
      " dropout_103 (Dropout)       (None, 32)                0         \n",
      "                                                                 \n",
      " dense_134 (Dense)           (None, 32)                1056      \n",
      "                                                                 \n",
      " dropout_104 (Dropout)       (None, 32)                0         \n",
      "                                                                 \n",
      " dense_135 (Dense)           (None, 32)                1056      \n",
      "                                                                 \n",
      " dropout_105 (Dropout)       (None, 32)                0         \n",
      "                                                                 \n",
      " dense_136 (Dense)           (None, 32)                1056      \n",
      "                                                                 \n",
      " dropout_106 (Dropout)       (None, 32)                0         \n",
      "                                                                 \n",
      " dense_137 (Dense)           (None, 10)                330       \n",
      "                                                                 \n",
      "=================================================================\n",
      "Total params: 28618 (111.79 KB)\n",
      "Trainable params: 28618 (111.79 KB)\n",
      "Non-trainable params: 0 (0.00 Byte)\n",
      "_________________________________________________________________\n",
      "Epoch 1/3\n",
      "   1/1875 [..............................] - ETA: 25:50 - loss: 2.3367 - accuracy: 0.0312WARNING:tensorflow:Callback method `on_train_batch_end` is slow compared to the batch time (batch time: 0.0017s vs `on_train_batch_end` time: 0.0031s). Check your callbacks.\n"
     ]
    },
    {
     "name": "stderr",
     "output_type": "stream",
     "text": [
      "WARNING:tensorflow:Callback method `on_train_batch_end` is slow compared to the batch time (batch time: 0.0017s vs `on_train_batch_end` time: 0.0031s). Check your callbacks.\n"
     ]
    },
    {
     "name": "stdout",
     "output_type": "stream",
     "text": [
      "1875/1875 [==============================] - 6s 3ms/step - loss: 0.5899 - accuracy: 0.8252 - val_loss: 0.2792 - val_accuracy: 0.9201\n",
      "Epoch 2/3\n",
      "1875/1875 [==============================] - 5s 3ms/step - loss: 0.3647 - accuracy: 0.8968 - val_loss: 0.2281 - val_accuracy: 0.9383\n",
      "Epoch 3/3\n",
      "1875/1875 [==============================] - 5s 3ms/step - loss: 0.3158 - accuracy: 0.9109 - val_loss: 0.2232 - val_accuracy: 0.9371\n",
      "1/1 [==============================] - 0s 63ms/step\n",
      "INFO:tensorflow:Assets written to: C:\\Users\\BLUESH~1\\AppData\\Local\\Temp\\tmpelii3uak\\model\\data\\model\\assets\n"
     ]
    },
    {
     "name": "stderr",
     "output_type": "stream",
     "text": [
      "INFO:tensorflow:Assets written to: C:\\Users\\BLUESH~1\\AppData\\Local\\Temp\\tmpelii3uak\\model\\data\\model\\assets\n"
     ]
    },
    {
     "name": "stdout",
     "output_type": "stream",
     "text": [
      "Modelo: 8366f638b27d4667af76b855f8250696\n"
     ]
    },
    {
     "name": "stderr",
     "output_type": "stream",
     "text": [
      "2023/09/29 09:13:01 WARNING mlflow.utils.autologging_utils: You are using an unsupported version of tensorflow. If you encounter errors during autologging, try upgrading / downgrading tensorflow to a supported version, or try upgrading MLflow.\n"
     ]
    },
    {
     "name": "stdout",
     "output_type": "stream",
     "text": [
      "Model: \"sequential_31\"\n",
      "_________________________________________________________________\n",
      " Layer (type)                Output Shape              Param #   \n",
      "=================================================================\n",
      " dense_138 (Dense)           (None, 32)                25120     \n",
      "                                                                 \n",
      " dropout_107 (Dropout)       (None, 32)                0         \n",
      "                                                                 \n",
      " dense_139 (Dense)           (None, 32)                1056      \n",
      "                                                                 \n",
      " dropout_108 (Dropout)       (None, 32)                0         \n",
      "                                                                 \n",
      " dense_140 (Dense)           (None, 32)                1056      \n",
      "                                                                 \n",
      " dropout_109 (Dropout)       (None, 32)                0         \n",
      "                                                                 \n",
      " dense_141 (Dense)           (None, 32)                1056      \n",
      "                                                                 \n",
      " dropout_110 (Dropout)       (None, 32)                0         \n",
      "                                                                 \n",
      " dense_142 (Dense)           (None, 10)                330       \n",
      "                                                                 \n",
      "=================================================================\n",
      "Total params: 28618 (111.79 KB)\n",
      "Trainable params: 28618 (111.79 KB)\n",
      "Non-trainable params: 0 (0.00 Byte)\n",
      "_________________________________________________________________\n",
      "Epoch 1/2\n",
      "   1/1875 [..............................] - ETA: 54:29 - loss: 2.4527 - accuracy: 0.0625WARNING:tensorflow:Callback method `on_train_batch_end` is slow compared to the batch time (batch time: 0.0028s vs `on_train_batch_end` time: 0.0041s). Check your callbacks.\n"
     ]
    },
    {
     "name": "stderr",
     "output_type": "stream",
     "text": [
      "WARNING:tensorflow:Callback method `on_train_batch_end` is slow compared to the batch time (batch time: 0.0028s vs `on_train_batch_end` time: 0.0041s). Check your callbacks.\n"
     ]
    },
    {
     "name": "stdout",
     "output_type": "stream",
     "text": [
      "1875/1875 [==============================] - 11s 5ms/step - loss: 0.7871 - accuracy: 0.7529 - val_loss: 0.3216 - val_accuracy: 0.9078\n",
      "Epoch 2/2\n",
      "1875/1875 [==============================] - 8s 4ms/step - loss: 0.4952 - accuracy: 0.8606 - val_loss: 0.2886 - val_accuracy: 0.9194\n",
      "1/1 [==============================] - 0s 120ms/step\n",
      "INFO:tensorflow:Assets written to: C:\\Users\\BLUESH~1\\AppData\\Local\\Temp\\tmp797sdmql\\model\\data\\model\\assets\n"
     ]
    },
    {
     "name": "stderr",
     "output_type": "stream",
     "text": [
      "INFO:tensorflow:Assets written to: C:\\Users\\BLUESH~1\\AppData\\Local\\Temp\\tmp797sdmql\\model\\data\\model\\assets\n"
     ]
    },
    {
     "name": "stdout",
     "output_type": "stream",
     "text": [
      "Modelo: 2e45d6045cbb4a0c83f42eb1ee1eb514\n"
     ]
    },
    {
     "name": "stderr",
     "output_type": "stream",
     "text": [
      "2023/09/29 09:13:33 WARNING mlflow.utils.autologging_utils: You are using an unsupported version of tensorflow. If you encounter errors during autologging, try upgrading / downgrading tensorflow to a supported version, or try upgrading MLflow.\n"
     ]
    },
    {
     "name": "stdout",
     "output_type": "stream",
     "text": [
      "Model: \"sequential_32\"\n",
      "_________________________________________________________________\n",
      " Layer (type)                Output Shape              Param #   \n",
      "=================================================================\n",
      " dense_143 (Dense)           (None, 32)                25120     \n",
      "                                                                 \n",
      " dropout_111 (Dropout)       (None, 32)                0         \n",
      "                                                                 \n",
      " dense_144 (Dense)           (None, 32)                1056      \n",
      "                                                                 \n",
      " dropout_112 (Dropout)       (None, 32)                0         \n",
      "                                                                 \n",
      " dense_145 (Dense)           (None, 32)                1056      \n",
      "                                                                 \n",
      " dropout_113 (Dropout)       (None, 32)                0         \n",
      "                                                                 \n",
      " dense_146 (Dense)           (None, 32)                1056      \n",
      "                                                                 \n",
      " dropout_114 (Dropout)       (None, 32)                0         \n",
      "                                                                 \n",
      " dense_147 (Dense)           (None, 10)                330       \n",
      "                                                                 \n",
      "=================================================================\n",
      "Total params: 28618 (111.79 KB)\n",
      "Trainable params: 28618 (111.79 KB)\n",
      "Non-trainable params: 0 (0.00 Byte)\n",
      "_________________________________________________________________\n",
      "Epoch 1/3\n",
      "   1/1875 [..............................] - ETA: 46:46 - loss: 2.2356 - accuracy: 0.2500WARNING:tensorflow:Callback method `on_train_batch_end` is slow compared to the batch time (batch time: 0.0032s vs `on_train_batch_end` time: 0.0054s). Check your callbacks.\n"
     ]
    },
    {
     "name": "stderr",
     "output_type": "stream",
     "text": [
      "WARNING:tensorflow:Callback method `on_train_batch_end` is slow compared to the batch time (batch time: 0.0032s vs `on_train_batch_end` time: 0.0054s). Check your callbacks.\n"
     ]
    },
    {
     "name": "stdout",
     "output_type": "stream",
     "text": [
      "1875/1875 [==============================] - 8s 3ms/step - loss: 0.7579 - accuracy: 0.7625 - val_loss: 0.3216 - val_accuracy: 0.9052\n",
      "Epoch 2/3\n",
      "1875/1875 [==============================] - 6s 3ms/step - loss: 0.4971 - accuracy: 0.8602 - val_loss: 0.2929 - val_accuracy: 0.9187\n",
      "Epoch 3/3\n",
      "1875/1875 [==============================] - 7s 4ms/step - loss: 0.4541 - accuracy: 0.8734 - val_loss: 0.2755 - val_accuracy: 0.9238\n",
      "1/1 [==============================] - 0s 116ms/step\n",
      "INFO:tensorflow:Assets written to: C:\\Users\\BLUESH~1\\AppData\\Local\\Temp\\tmpxpxbamd4\\model\\data\\model\\assets\n"
     ]
    },
    {
     "name": "stderr",
     "output_type": "stream",
     "text": [
      "INFO:tensorflow:Assets written to: C:\\Users\\BLUESH~1\\AppData\\Local\\Temp\\tmpxpxbamd4\\model\\data\\model\\assets\n"
     ]
    },
    {
     "name": "stdout",
     "output_type": "stream",
     "text": [
      "Modelo: 2fc713e6c9dd4e03a7ab1c09335c1be2\n"
     ]
    },
    {
     "data": {
      "image/png": "[encoded data removed]",
      "text/plain": [
       "<Figure size 640x480 with 1 Axes>"
      ]
     },
     "metadata": {},
     "output_type": "display_data"
    }
   ],
   "source": [
    "n_camadas_ocultas = [2, 3]\n",
    "n_neuronios = [16, 32]\n",
    "activation = ['relu', 'tanh']\n",
    "drop_out = [0.2, 0.3]\n",
    "epochs = [2, 3]\n",
    "\n",
    "for i in n_camadas_ocultas:\n",
    "  for j in n_neuronios:\n",
    "    for k in activation:\n",
    "      for l in drop_out:\n",
    "        for m in epochs:\n",
    "          treina_dl(i, j, k, l, m)"
   ]
  }
 ],
 "metadata": {
  "kernelspec": {
   "display_name": "Python 3",
   "language": "python",
   "name": "python3"
  },
  "language_info": {
   "codemirror_mode": {
    "name": "ipython",
    "version": 3
   },
   "file_extension": ".py",
   "mimetype": "text/x-python",
   "name": "python",
   "nbconvert_exporter": "python",
   "pygments_lexer": "ipython3",
   "version": "3.11.0"
  },
  "orig_nbformat": 4
 },
 "nbformat": 4,
 "nbformat_minor": 2
}
